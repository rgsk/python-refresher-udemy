{
 "cells": [
  {
   "cell_type": "code",
   "execution_count": 20,
   "metadata": {},
   "outputs": [
    {
     "name": "stdout",
     "output_type": "stream",
     "text": [
      "No permissions\n",
      "user: user_password\n"
     ]
    }
   ],
   "source": [
    "import functools\n",
    "\n",
    "def make_secure(access_level):\n",
    "    def decorator(fun):\n",
    "        @functools.wraps(fun)\n",
    "        def secure_function(*args, **kwargs):\n",
    "            if user['access_level'] == 'admin' or user['access_level'] == access_level :\n",
    "                return fun(*args, **kwargs)\n",
    "            else: \n",
    "                return f'No permissions'\n",
    "        return secure_function\n",
    "    return decorator\n",
    "\n",
    "@make_secure('admin')\n",
    "def get_admin_password():\n",
    "    return \"admin: 1234\"\n",
    "\n",
    "@make_secure('user')\n",
    "def get_dashboard_password():\n",
    "    return 'user: user_password'\n",
    "\n",
    "user = {\n",
    "    'username': 'Rahul',\n",
    "    'access_level': 'user'\n",
    "}\n",
    "\n",
    "print(get_admin_password())\n",
    "print(get_dashboard_password())"
   ]
  },
  {
   "cell_type": "code",
   "execution_count": 21,
   "metadata": {},
   "outputs": [
    {
     "name": "stdout",
     "output_type": "stream",
     "text": [
      "admin: 1234\n",
      "user: user_password\n"
     ]
    }
   ],
   "source": [
    "user = {\n",
    "    'username': 'Rahul',\n",
    "    'access_level': 'admin'\n",
    "}\n",
    "print(get_admin_password())\n",
    "print(get_dashboard_password())"
   ]
  },
  {
   "cell_type": "code",
   "execution_count": 22,
   "metadata": {},
   "outputs": [
    {
     "name": "stdout",
     "output_type": "stream",
     "text": [
      "get_admin_password\n"
     ]
    }
   ],
   "source": [
    "# @functools.wraps(fun) works\n",
    "print(get_admin_password.__name__)"
   ]
  }
 ],
 "metadata": {
  "kernelspec": {
   "display_name": "Python 3.9.12 ('base')",
   "language": "python",
   "name": "python3"
  },
  "language_info": {
   "codemirror_mode": {
    "name": "ipython",
    "version": 3
   },
   "file_extension": ".py",
   "mimetype": "text/x-python",
   "name": "python",
   "nbconvert_exporter": "python",
   "pygments_lexer": "ipython3",
   "version": "3.9.12"
  },
  "orig_nbformat": 4,
  "vscode": {
   "interpreter": {
    "hash": "41f7ba8645af086de5a2c668809fdb57629028366d5687fb2c6a0345f663f190"
   }
  }
 },
 "nbformat": 4,
 "nbformat_minor": 2
}
