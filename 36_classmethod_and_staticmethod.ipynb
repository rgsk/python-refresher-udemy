{
 "cells": [
  {
   "cell_type": "code",
   "execution_count": 32,
   "metadata": {},
   "outputs": [],
   "source": [
    "class ClassTest:\n",
    "    def instance_method(self):\n",
    "        print(f'Called instance_method of {self}')\n",
    "\n",
    "    @classmethod\n",
    "    def class_method(cls):\n",
    "        print(f'Called class_method of {cls}')\n",
    "    \n",
    "    @staticmethod\n",
    "    def static_method():\n",
    "        print(\"Called static_method.\")"
   ]
  },
  {
   "cell_type": "code",
   "execution_count": 33,
   "metadata": {},
   "outputs": [
    {
     "name": "stdout",
     "output_type": "stream",
     "text": [
      "Called instance_method of <__main__.ClassTest object at 0x7fc5509d0dc0>\n",
      "Called instance_method of <__main__.ClassTest object at 0x7fc5509d0dc0>\n"
     ]
    }
   ],
   "source": [
    "ct = ClassTest()\n",
    "ct.instance_method()\n",
    "ClassTest.instance_method(ct)"
   ]
  },
  {
   "cell_type": "code",
   "execution_count": 34,
   "metadata": {},
   "outputs": [
    {
     "name": "stdout",
     "output_type": "stream",
     "text": [
      "Called class_method of <class '__main__.ClassTest'>\n"
     ]
    }
   ],
   "source": [
    "ClassTest.class_method()"
   ]
  },
  {
   "cell_type": "code",
   "execution_count": 35,
   "metadata": {},
   "outputs": [
    {
     "name": "stdout",
     "output_type": "stream",
     "text": [
      "Called static_method.\n"
     ]
    }
   ],
   "source": [
    "ClassTest.static_method()"
   ]
  },
  {
   "cell_type": "code",
   "execution_count": 36,
   "metadata": {},
   "outputs": [
    {
     "name": "stdout",
     "output_type": "stream",
     "text": [
      "<Book Harry Potter, handcover, weighing 1600g>\n",
      "<Book Harry Potter, paperback, weighing 1800g>\n"
     ]
    }
   ],
   "source": [
    "class Book:\n",
    "    TYPES = ('handcover', 'paperback')\n",
    "\n",
    "    def __init__(self, name, book_type, weight):\n",
    "        self.name = name\n",
    "        self.book_type = book_type\n",
    "        self.weight = weight\n",
    "\n",
    "    def __repr__(self) -> str:\n",
    "        return f\"<Book {self.name}, {self.book_type}, weighing {self.weight}g>\"\n",
    "\n",
    "    @classmethod\n",
    "    def hardcover(cls, name, page_weight):\n",
    "        return cls(name, cls.TYPES[0], page_weight + 100)\n",
    "     \n",
    "    @classmethod\n",
    "    def paperback(cls, name, page_weight):\n",
    "        # we can use Book too, but using cls is better\n",
    "        return Book(name, Book.TYPES[1], page_weight)\n",
    "\n",
    "book1 = Book.hardcover('Harry Potter', 1500)\n",
    "print(book1)\n",
    "book2 = Book.paperback('Harry Potter', 1800)\n",
    "print(book2)"
   ]
  }
 ],
 "metadata": {
  "kernelspec": {
   "display_name": "Python 3.9.12 ('base')",
   "language": "python",
   "name": "python3"
  },
  "language_info": {
   "codemirror_mode": {
    "name": "ipython",
    "version": 3
   },
   "file_extension": ".py",
   "mimetype": "text/x-python",
   "name": "python",
   "nbconvert_exporter": "python",
   "pygments_lexer": "ipython3",
   "version": "3.9.12"
  },
  "orig_nbformat": 4,
  "vscode": {
   "interpreter": {
    "hash": "41f7ba8645af086de5a2c668809fdb57629028366d5687fb2c6a0345f663f190"
   }
  }
 },
 "nbformat": 4,
 "nbformat_minor": 2
}
