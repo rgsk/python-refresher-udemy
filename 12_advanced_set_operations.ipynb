{
 "cells": [
  {
   "cell_type": "code",
   "execution_count": 14,
   "metadata": {},
   "outputs": [
    {
     "name": "stdout",
     "output_type": "stream",
     "text": [
      "{'Rolf'}\n"
     ]
    }
   ],
   "source": [
    "friends = {\"Bob\", \"Rolf\", 'Anne'}\n",
    "abroad = {\"Bob\", \"Anne\"}\n",
    "local_friends = friends.difference(abroad)\n",
    "print(local_friends)"
   ]
  },
  {
   "cell_type": "code",
   "execution_count": 15,
   "metadata": {},
   "outputs": [
    {
     "name": "stdout",
     "output_type": "stream",
     "text": [
      "{'Rolf'}\n"
     ]
    }
   ],
   "source": [
    "friends = {\"Bob\", \"Rolf\", 'Anne'}\n",
    "abroad = {\"Bob\", \"Anne\"}\n",
    "local_friends = friends - abroad\n",
    "print(local_friends)"
   ]
  },
  {
   "cell_type": "code",
   "execution_count": 16,
   "metadata": {},
   "outputs": [
    {
     "name": "stdout",
     "output_type": "stream",
     "text": [
      "{'Rolf', 'Anne', 'Bob'}\n",
      "{'Rolf', 'Anne', 'Bob'}\n"
     ]
    }
   ],
   "source": [
    "local_friends = {'Rolf'}\n",
    "abroad = {\"Bob\", \"Anne\"}\n",
    "\n",
    "print(local_friends.union(abroad))\n",
    "print(local_friends | abroad)"
   ]
  },
  {
   "cell_type": "code",
   "execution_count": 17,
   "metadata": {},
   "outputs": [
    {
     "name": "stdout",
     "output_type": "stream",
     "text": [
      "{'Bob', 'Jen'}\n",
      "{'Bob', 'Jen'}\n"
     ]
    }
   ],
   "source": [
    "art = {\"Bob\", \"Jen\", \"Rolf\", \"Charlie\"}\n",
    "science = {\"Bob\", \"Jen\", \"Adam\", \"Anne\"}\n",
    "print(art.intersection(science))\n",
    "print(art & science)"
   ]
  },
  {
   "cell_type": "code",
   "execution_count": 1,
   "metadata": {},
   "outputs": [
    {
     "name": "stdout",
     "output_type": "stream",
     "text": [
      "{'Charlie', 'Adam', 'Rolf', 'Anne'}\n",
      "{'Charlie', 'Adam', 'Rolf', 'Anne'}\n",
      "{'Rolf', 'Charlie', 'Adam', 'Anne'}\n",
      "{'Rolf', 'Charlie', 'Adam', 'Anne'}\n"
     ]
    }
   ],
   "source": [
    "art = {\"Bob\", \"Jen\", \"Rolf\", \"Charlie\"}\n",
    "science = {\"Bob\", \"Jen\", \"Adam\", \"Anne\"}\n",
    "print(art.symmetric_difference(science))\n",
    "print(art ^ science)\n",
    "print((art | science) - (art & science))\n",
    "print((art - science) | (science - art))"
   ]
  },
  {
   "cell_type": "code",
   "execution_count": 7,
   "metadata": {},
   "outputs": [
    {
     "name": "stdout",
     "output_type": "stream",
     "text": [
      "A & B = {1, 3, 5, 6, 7, 8}\n",
      "A | B = {1, 2, 3, 4, 5, 6, 7, 8, 9}\n",
      "A - B = {2, 4}\n",
      "B - A = {9}\n",
      "A ^ B = {2, 4, 9}\n",
      "(A | B) - (A & B) = {9, 2, 4}\n",
      "(A - B) | (B - A) = {9, 2, 4}\n"
     ]
    }
   ],
   "source": [
    "A = {1,2,3,4,5,6,7,8}\n",
    "B = {1,3,5,6,7,8,9}\n",
    "print(f'A & B = {A & B}')\n",
    "print(f'A | B = {A | B}')\n",
    "print(f'A - B = {A - B}')\n",
    "print(f'B - A = {B - A}')\n",
    "print(f'A ^ B = {A ^ B}')\n",
    "print(f'(A | B) - (A & B) = {(A | B) - (A & B)}')\n",
    "print(f'(A - B) | (B - A) = {(A - B) | (B - A)}')"
   ]
  }
 ],
 "metadata": {
  "kernelspec": {
   "display_name": "Python 3.9.12 ('base')",
   "language": "python",
   "name": "python3"
  },
  "language_info": {
   "codemirror_mode": {
    "name": "ipython",
    "version": 3
   },
   "file_extension": ".py",
   "mimetype": "text/x-python",
   "name": "python",
   "nbconvert_exporter": "python",
   "pygments_lexer": "ipython3",
   "version": "3.9.12"
  },
  "orig_nbformat": 4,
  "vscode": {
   "interpreter": {
    "hash": "41f7ba8645af086de5a2c668809fdb57629028366d5687fb2c6a0345f663f190"
   }
  }
 },
 "nbformat": 4,
 "nbformat_minor": 2
}
