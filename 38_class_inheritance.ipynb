{
 "cells": [
  {
   "cell_type": "markdown",
   "metadata": {},
   "source": [
    "Inheritance is used when we want to explain an evolution\n",
    "for eg - Tiger is Animal and something more\n",
    "\n",
    "eg - Printer is Device and something more (properties that are specific to printer)\n",
    "\n"
   ]
  },
  {
   "cell_type": "code",
   "execution_count": 30,
   "metadata": {},
   "outputs": [],
   "source": [
    "class Device:\n",
    "    def __init__(self, name, connected_by):\n",
    "        self.name = name\n",
    "        self.connected_by = connected_by\n",
    "        self.connected = True\n",
    "\n",
    "    def __str__(self) -> str:\n",
    "        return f\"Device {self.name!r} ({self.connected_by} - {self.connected})\"\n",
    "\n",
    "    def disconnect(self):\n",
    "        self.connected = False\n",
    "        print('Disconnected')\n",
    "\n",
    "    def connect(self):\n",
    "        self.connected = True\n",
    "        print('Connected')\n",
    "    \n"
   ]
  },
  {
   "cell_type": "code",
   "execution_count": 31,
   "metadata": {},
   "outputs": [
    {
     "name": "stdout",
     "output_type": "stream",
     "text": [
      "Device 'Mobile' (Charger - True)\n"
     ]
    }
   ],
   "source": [
    "mobile = Device('Mobile', 'Charger')\n",
    "print(mobile)"
   ]
  },
  {
   "cell_type": "code",
   "execution_count": 32,
   "metadata": {},
   "outputs": [
    {
     "name": "stdout",
     "output_type": "stream",
     "text": [
      "Device 'Printer' (USB - True)\n",
      "Disconnected\n",
      "Device 'Printer' (USB - False)\n"
     ]
    }
   ],
   "source": [
    "printer = Device('Printer', \"USB\")\n",
    "print(printer)\n",
    "printer.disconnect() \n",
    "print(printer)"
   ]
  },
  {
   "cell_type": "code",
   "execution_count": 33,
   "metadata": {},
   "outputs": [],
   "source": [
    "class Printer(Device):\n",
    "    def __init__(self, name, connected_by, capacity):\n",
    "        super().__init__(name, connected_by)\n",
    "        self.capacity = capacity\n",
    "        self.remaining_pages = capacity\n",
    "    def __str__(self) -> str:\n",
    "        return f\"{super().__str__()} ({self.remaining_pages} pages remaining)\"\n",
    "\n",
    "    def print(self, pages):\n",
    "        if not self.connected:\n",
    "            print('printer is not connected!!')\n",
    "        elif self.remaining_pages >= pages:\n",
    "            print(f'Printing {pages} pages')\n",
    "            self.remaining_pages -= pages\n",
    "        else:\n",
    "            print('Can\\'t print that many pages')\n",
    "\n"
   ]
  },
  {
   "cell_type": "code",
   "execution_count": 34,
   "metadata": {},
   "outputs": [
    {
     "name": "stdout",
     "output_type": "stream",
     "text": [
      "Device \"Rahul's Printer\" (USB 3.0 - True) (100 pages remaining)\n",
      "Printing 10 pages\n",
      "Device \"Rahul's Printer\" (USB 3.0 - True) (90 pages remaining)\n",
      "Disconnected\n",
      "printer is not connected!!\n",
      "Connected\n",
      "Can't print that many pages\n"
     ]
    }
   ],
   "source": [
    "rahul_printer = Printer('Rahul\\'s Printer', 'USB 3.0', 100)\n",
    "print(rahul_printer)\n",
    "rahul_printer.print(10)\n",
    "print(rahul_printer)\n",
    "rahul_printer.disconnect()\n",
    "rahul_printer.print(10)\n",
    "rahul_printer.connect()\n",
    "rahul_printer.print(99)"
   ]
  }
 ],
 "metadata": {
  "kernelspec": {
   "display_name": "Python 3.9.12 ('base')",
   "language": "python",
   "name": "python3"
  },
  "language_info": {
   "codemirror_mode": {
    "name": "ipython",
    "version": 3
   },
   "file_extension": ".py",
   "mimetype": "text/x-python",
   "name": "python",
   "nbconvert_exporter": "python",
   "pygments_lexer": "ipython3",
   "version": "3.9.12"
  },
  "orig_nbformat": 4,
  "vscode": {
   "interpreter": {
    "hash": "41f7ba8645af086de5a2c668809fdb57629028366d5687fb2c6a0345f663f190"
   }
  }
 },
 "nbformat": 4,
 "nbformat_minor": 2
}
