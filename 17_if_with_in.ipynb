{
 "cells": [
  {
   "cell_type": "code",
   "execution_count": 2,
   "metadata": {},
   "outputs": [
    {
     "name": "stdout",
     "output_type": "stream",
     "text": [
      "value: 55 is not present in possible_values\n"
     ]
    }
   ],
   "source": [
    "possible_values = {1,2,3,4} # O(1)\n",
    "value = int(input())\n",
    "if value in possible_values:      \n",
    "    print(f'value: {value} is present in possible_values')\n",
    "else:\n",
    "    print(f'value: {value} is not present in possible_values')\n",
    " "
   ]
  },
  {
   "cell_type": "code",
   "execution_count": 4,
   "metadata": {},
   "outputs": [
    {
     "name": "stdout",
     "output_type": "stream",
     "text": [
      "You were off by one.\n"
     ]
    }
   ],
   "source": [
    "number = 7\n",
    "user_input = input(\"Enter 'y' if you would like to play: \").lower()\n",
    "\n",
    "if user_input == \"y\":\n",
    "    user_number = int(input(\"Guess our number: \"))\n",
    "    if user_number == number:\n",
    "        print(\"You guessed correctly!\")\n",
    "    elif abs(number - user_number) == 1:\n",
    "        print(\"You were off by one.\")\n",
    "    else:\n",
    "        print(\"Sorry, it's wrong!\")\n"
   ]
  }
 ],
 "metadata": {
  "kernelspec": {
   "display_name": "Python 3.9.12 ('base')",
   "language": "python",
   "name": "python3"
  },
  "language_info": {
   "codemirror_mode": {
    "name": "ipython",
    "version": 3
   },
   "file_extension": ".py",
   "mimetype": "text/x-python",
   "name": "python",
   "nbconvert_exporter": "python",
   "pygments_lexer": "ipython3",
   "version": "3.9.12"
  },
  "orig_nbformat": 4,
  "vscode": {
   "interpreter": {
    "hash": "41f7ba8645af086de5a2c668809fdb57629028366d5687fb2c6a0345f663f190"
   }
  }
 },
 "nbformat": 4,
 "nbformat_minor": 2
}
