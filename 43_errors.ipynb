{
 "cells": [
  {
   "cell_type": "code",
   "execution_count": 43,
   "metadata": {},
   "outputs": [
    {
     "name": "stdout",
     "output_type": "stream",
     "text": [
      "Divisor cannot be 0.\n",
      "None\n"
     ]
    }
   ],
   "source": [
    "def divide(dividend: int, divisor: int):\n",
    "    '''\n",
    "    if the check is not present\n",
    "    we can run into below error when divisor is passed as 0\n",
    "    ZeroDivisionError: division by zero\n",
    "    '''\n",
    "    if divisor == 0:\n",
    "        print('Divisor cannot be 0.')\n",
    "        return\n",
    "    return dividend/divisor\n",
    "\n",
    "print(divide(15, 0))"
   ]
  },
  {
   "cell_type": "code",
   "execution_count": 44,
   "metadata": {},
   "outputs": [
    {
     "name": "stdout",
     "output_type": "stream",
     "text": [
      "Welcome to the average grade program.\n",
      "The average grade is 90.5.\n"
     ]
    }
   ],
   "source": [
    "grades = [78, 99, 85, 100]\n",
    "print('Welcome to the average grade program.')\n",
    "average = divide(sum(grades), len(grades))\n",
    "print(f'The average grade is {average}.')"
   ]
  },
  {
   "cell_type": "code",
   "execution_count": 45,
   "metadata": {},
   "outputs": [
    {
     "name": "stdout",
     "output_type": "stream",
     "text": [
      "Welcome to the average grade program.\n",
      "Divisor cannot be 0.\n",
      "The average grade is None.\n"
     ]
    }
   ],
   "source": [
    "grades = []\n",
    "print('Welcome to the average grade program.')\n",
    "average = divide(sum(grades), len(grades))\n",
    "print(f'The average grade is {average}.')"
   ]
  },
  {
   "cell_type": "code",
   "execution_count": 46,
   "metadata": {},
   "outputs": [
    {
     "name": "stdout",
     "output_type": "stream",
     "text": [
      "Welcome to the average grade program.\n"
     ]
    },
    {
     "ename": "ZeroDivisionError",
     "evalue": "Divisor cannot be 0.",
     "output_type": "error",
     "traceback": [
      "\u001b[0;31m---------------------------------------------------------------------------\u001b[0m",
      "\u001b[0;31mZeroDivisionError\u001b[0m                         Traceback (most recent call last)",
      "\u001b[1;32m/Users/rahulgupta/Desktop/practice/python-refresher-udemy/43_errors.ipynb Cell 4\u001b[0m in \u001b[0;36m<cell line: 8>\u001b[0;34m()\u001b[0m\n\u001b[1;32m      <a href='vscode-notebook-cell:/Users/rahulgupta/Desktop/practice/python-refresher-udemy/43_errors.ipynb#W3sZmlsZQ%3D%3D?line=5'>6</a>\u001b[0m grades \u001b[39m=\u001b[39m []\n\u001b[1;32m      <a href='vscode-notebook-cell:/Users/rahulgupta/Desktop/practice/python-refresher-udemy/43_errors.ipynb#W3sZmlsZQ%3D%3D?line=6'>7</a>\u001b[0m \u001b[39mprint\u001b[39m(\u001b[39m'\u001b[39m\u001b[39mWelcome to the average grade program.\u001b[39m\u001b[39m'\u001b[39m)\n\u001b[0;32m----> <a href='vscode-notebook-cell:/Users/rahulgupta/Desktop/practice/python-refresher-udemy/43_errors.ipynb#W3sZmlsZQ%3D%3D?line=7'>8</a>\u001b[0m average \u001b[39m=\u001b[39m divide(\u001b[39msum\u001b[39;49m(grades), \u001b[39mlen\u001b[39;49m(grades))\n\u001b[1;32m      <a href='vscode-notebook-cell:/Users/rahulgupta/Desktop/practice/python-refresher-udemy/43_errors.ipynb#W3sZmlsZQ%3D%3D?line=8'>9</a>\u001b[0m \u001b[39mprint\u001b[39m(\u001b[39mf\u001b[39m\u001b[39m'\u001b[39m\u001b[39mThe average grade is \u001b[39m\u001b[39m{\u001b[39;00maverage\u001b[39m}\u001b[39;00m\u001b[39m.\u001b[39m\u001b[39m'\u001b[39m)\n",
      "\u001b[1;32m/Users/rahulgupta/Desktop/practice/python-refresher-udemy/43_errors.ipynb Cell 4\u001b[0m in \u001b[0;36mdivide\u001b[0;34m(dividend, divisor)\u001b[0m\n\u001b[1;32m      <a href='vscode-notebook-cell:/Users/rahulgupta/Desktop/practice/python-refresher-udemy/43_errors.ipynb#W3sZmlsZQ%3D%3D?line=0'>1</a>\u001b[0m \u001b[39mdef\u001b[39;00m \u001b[39mdivide\u001b[39m(dividend: \u001b[39mint\u001b[39m, divisor: \u001b[39mint\u001b[39m):\n\u001b[1;32m      <a href='vscode-notebook-cell:/Users/rahulgupta/Desktop/practice/python-refresher-udemy/43_errors.ipynb#W3sZmlsZQ%3D%3D?line=1'>2</a>\u001b[0m     \u001b[39mif\u001b[39;00m divisor \u001b[39m==\u001b[39m \u001b[39m0\u001b[39m:\n\u001b[0;32m----> <a href='vscode-notebook-cell:/Users/rahulgupta/Desktop/practice/python-refresher-udemy/43_errors.ipynb#W3sZmlsZQ%3D%3D?line=2'>3</a>\u001b[0m         \u001b[39mraise\u001b[39;00m \u001b[39mZeroDivisionError\u001b[39;00m(\u001b[39m'\u001b[39m\u001b[39mDivisor cannot be 0.\u001b[39m\u001b[39m'\u001b[39m)\n\u001b[1;32m      <a href='vscode-notebook-cell:/Users/rahulgupta/Desktop/practice/python-refresher-udemy/43_errors.ipynb#W3sZmlsZQ%3D%3D?line=3'>4</a>\u001b[0m     \u001b[39mreturn\u001b[39;00m dividend\u001b[39m/\u001b[39mdivisor\n",
      "\u001b[0;31mZeroDivisionError\u001b[0m: Divisor cannot be 0."
     ]
    }
   ],
   "source": [
    "def divide(dividend: int, divisor: int):\n",
    "    if divisor == 0:\n",
    "        raise ZeroDivisionError('Divisor cannot be 0.')\n",
    "    return dividend/divisor\n",
    "\n",
    "grades = []\n",
    "print('Welcome to the average grade program.')\n",
    "average = divide(sum(grades), len(grades))\n",
    "print(f'The average grade is {average}.')"
   ]
  },
  {
   "cell_type": "code",
   "execution_count": null,
   "metadata": {},
   "outputs": [
    {
     "name": "stdout",
     "output_type": "stream",
     "text": [
      "Welcome to the average grade program.\n",
      "e: Divisor cannot be 0.\n",
      "There are no grades yet in your list.\n"
     ]
    }
   ],
   "source": [
    "def divide(dividend: int, divisor: int):\n",
    "    if divisor == 0:\n",
    "        raise ZeroDivisionError('Divisor cannot be 0.')\n",
    "    return dividend/divisor\n",
    "\n",
    "\n",
    "grades = []\n",
    "print('Welcome to the average grade program.')\n",
    "\n",
    "try:\n",
    "    average = divide(sum(grades), len(grades))\n",
    "    print(f'The average grade is {average}.')\n",
    "except ZeroDivisionError as e:\n",
    "    print('e:', e)\n",
    "    print('There are no grades yet in your list.')\n"
   ]
  },
  {
   "cell_type": "code",
   "execution_count": null,
   "metadata": {},
   "outputs": [
    {
     "name": "stdout",
     "output_type": "stream",
     "text": [
      "Welcome to the average grade program.\n",
      "The average grade is 2.0.\n"
     ]
    }
   ],
   "source": [
    "\n",
    "grades = [1, 2, 3]\n",
    "print('Welcome to the average grade program.')\n",
    "\n",
    "try:\n",
    "    average = divide(sum(grades), len(grades))\n",
    "except ZeroDivisionError as e:\n",
    "    print('There are no grades yet in your list.')\n",
    "else:\n",
    "    # if no exception is thrown below code is ran\n",
    "    print(f'The average grade is {average}.')\n",
    "finally:\n",
    "    print('Thank you!')"
   ]
  },
  {
   "cell_type": "code",
   "execution_count": 47,
   "metadata": {},
   "outputs": [
    {
     "name": "stdout",
     "output_type": "stream",
     "text": [
      "some message\n",
      "this is the final block\n"
     ]
    },
    {
     "ename": "RuntimeError",
     "evalue": "some uncatched error",
     "output_type": "error",
     "traceback": [
      "\u001b[0;31m---------------------------------------------------------------------------\u001b[0m",
      "\u001b[0;31mZeroDivisionError\u001b[0m                         Traceback (most recent call last)",
      "\u001b[1;32m/Users/rahulgupta/Desktop/practice/python-refresher-udemy/43_errors.ipynb Cell 7\u001b[0m in \u001b[0;36m<cell line: 1>\u001b[0;34m()\u001b[0m\n\u001b[1;32m      <a href='vscode-notebook-cell:/Users/rahulgupta/Desktop/practice/python-refresher-udemy/43_errors.ipynb#W6sZmlsZQ%3D%3D?line=0'>1</a>\u001b[0m \u001b[39mtry\u001b[39;00m:\n\u001b[0;32m----> <a href='vscode-notebook-cell:/Users/rahulgupta/Desktop/practice/python-refresher-udemy/43_errors.ipynb#W6sZmlsZQ%3D%3D?line=1'>2</a>\u001b[0m     \u001b[39mraise\u001b[39;00m \u001b[39mZeroDivisionError\u001b[39;00m(\u001b[39m'\u001b[39m\u001b[39msome message\u001b[39m\u001b[39m'\u001b[39m)\n\u001b[1;32m      <a href='vscode-notebook-cell:/Users/rahulgupta/Desktop/practice/python-refresher-udemy/43_errors.ipynb#W6sZmlsZQ%3D%3D?line=2'>3</a>\u001b[0m \u001b[39mexcept\u001b[39;00m \u001b[39mException\u001b[39;00m \u001b[39mas\u001b[39;00m e:\n",
      "\u001b[0;31mZeroDivisionError\u001b[0m: some message",
      "\nDuring handling of the above exception, another exception occurred:\n",
      "\u001b[0;31mRuntimeError\u001b[0m                              Traceback (most recent call last)",
      "\u001b[1;32m/Users/rahulgupta/Desktop/practice/python-refresher-udemy/43_errors.ipynb Cell 7\u001b[0m in \u001b[0;36m<cell line: 1>\u001b[0;34m()\u001b[0m\n\u001b[1;32m      <a href='vscode-notebook-cell:/Users/rahulgupta/Desktop/practice/python-refresher-udemy/43_errors.ipynb#W6sZmlsZQ%3D%3D?line=2'>3</a>\u001b[0m \u001b[39mexcept\u001b[39;00m \u001b[39mException\u001b[39;00m \u001b[39mas\u001b[39;00m e:\n\u001b[1;32m      <a href='vscode-notebook-cell:/Users/rahulgupta/Desktop/practice/python-refresher-udemy/43_errors.ipynb#W6sZmlsZQ%3D%3D?line=3'>4</a>\u001b[0m     \u001b[39mprint\u001b[39m(e)\n\u001b[0;32m----> <a href='vscode-notebook-cell:/Users/rahulgupta/Desktop/practice/python-refresher-udemy/43_errors.ipynb#W6sZmlsZQ%3D%3D?line=4'>5</a>\u001b[0m     \u001b[39mraise\u001b[39;00m \u001b[39mRuntimeError\u001b[39;00m(\u001b[39m'\u001b[39m\u001b[39msome uncatched error\u001b[39m\u001b[39m'\u001b[39m)\n\u001b[1;32m      <a href='vscode-notebook-cell:/Users/rahulgupta/Desktop/practice/python-refresher-udemy/43_errors.ipynb#W6sZmlsZQ%3D%3D?line=5'>6</a>\u001b[0m \u001b[39mfinally\u001b[39;00m:\n\u001b[1;32m      <a href='vscode-notebook-cell:/Users/rahulgupta/Desktop/practice/python-refresher-udemy/43_errors.ipynb#W6sZmlsZQ%3D%3D?line=6'>7</a>\u001b[0m     \u001b[39mprint\u001b[39m(\u001b[39m'\u001b[39m\u001b[39mthis is the final block\u001b[39m\u001b[39m'\u001b[39m)\n",
      "\u001b[0;31mRuntimeError\u001b[0m: some uncatched error"
     ]
    }
   ],
   "source": [
    "try:\n",
    "    raise ZeroDivisionError('some message')\n",
    "except Exception as e:\n",
    "    print(e)\n",
    "    raise RuntimeError('some uncatched error')\n",
    "finally:\n",
    "    print('this is the final block')\n",
    "\n",
    "print('this code is will not execute as raised exception is not catched')"
   ]
  },
  {
   "cell_type": "code",
   "execution_count": 48,
   "metadata": {},
   "outputs": [
    {
     "name": "stdout",
     "output_type": "stream",
     "text": [
      "this is the final block\n"
     ]
    },
    {
     "ename": "ZeroDivisionError",
     "evalue": "some message",
     "output_type": "error",
     "traceback": [
      "\u001b[0;31m---------------------------------------------------------------------------\u001b[0m",
      "\u001b[0;31mZeroDivisionError\u001b[0m                         Traceback (most recent call last)",
      "\u001b[1;32m/Users/rahulgupta/Desktop/practice/python-refresher-udemy/43_errors.ipynb Cell 8\u001b[0m in \u001b[0;36m<cell line: 1>\u001b[0;34m()\u001b[0m\n\u001b[1;32m      <a href='vscode-notebook-cell:/Users/rahulgupta/Desktop/practice/python-refresher-udemy/43_errors.ipynb#X11sZmlsZQ%3D%3D?line=4'>5</a>\u001b[0m     \u001b[39mraise\u001b[39;00m \u001b[39mRuntimeError\u001b[39;00m(\u001b[39m'\u001b[39m\u001b[39msome uncatched error\u001b[39m\u001b[39m'\u001b[39m)\n\u001b[1;32m      <a href='vscode-notebook-cell:/Users/rahulgupta/Desktop/practice/python-refresher-udemy/43_errors.ipynb#X11sZmlsZQ%3D%3D?line=5'>6</a>\u001b[0m \u001b[39melse\u001b[39;00m: \n\u001b[0;32m----> <a href='vscode-notebook-cell:/Users/rahulgupta/Desktop/practice/python-refresher-udemy/43_errors.ipynb#X11sZmlsZQ%3D%3D?line=6'>7</a>\u001b[0m     \u001b[39mraise\u001b[39;00m \u001b[39mZeroDivisionError\u001b[39;00m(\u001b[39m'\u001b[39m\u001b[39msome message\u001b[39m\u001b[39m'\u001b[39m)\n\u001b[1;32m      <a href='vscode-notebook-cell:/Users/rahulgupta/Desktop/practice/python-refresher-udemy/43_errors.ipynb#X11sZmlsZQ%3D%3D?line=7'>8</a>\u001b[0m \u001b[39mfinally\u001b[39;00m:\n\u001b[1;32m      <a href='vscode-notebook-cell:/Users/rahulgupta/Desktop/practice/python-refresher-udemy/43_errors.ipynb#X11sZmlsZQ%3D%3D?line=8'>9</a>\u001b[0m     \u001b[39mprint\u001b[39m(\u001b[39m'\u001b[39m\u001b[39mthis is the final block\u001b[39m\u001b[39m'\u001b[39m)\n",
      "\u001b[0;31mZeroDivisionError\u001b[0m: some message"
     ]
    }
   ],
   "source": [
    "try:\n",
    "    pass\n",
    "except Exception as e:\n",
    "    print(e)\n",
    "    raise RuntimeError('some uncatched error')\n",
    "else: \n",
    "    raise ZeroDivisionError('some message')\n",
    "finally:\n",
    "    print('this is the final block')\n",
    "\n",
    "print('this code is will not execute as raised exception is not catched')"
   ]
  },
  {
   "cell_type": "code",
   "execution_count": 52,
   "metadata": {},
   "outputs": [
    {
     "name": "stdout",
     "output_type": "stream",
     "text": [
      "galat value dera bhai\n"
     ]
    }
   ],
   "source": [
    "errors = [ZeroDivisionError('zero pass karega'), RuntimeError('chalte chalte fus'), ValueError('galat value dera bhai')]\n",
    "\n",
    "try: \n",
    "    raise errors[2]\n",
    "except (ZeroDivisionError, RuntimeError ) as e:\n",
    "    print(e)\n",
    "except ValueError as e:\n",
    "    print(e)\n"
   ]
  }
 ],
 "metadata": {
  "kernelspec": {
   "display_name": "Python 3.9.12 ('base')",
   "language": "python",
   "name": "python3"
  },
  "language_info": {
   "codemirror_mode": {
    "name": "ipython",
    "version": 3
   },
   "file_extension": ".py",
   "mimetype": "text/x-python",
   "name": "python",
   "nbconvert_exporter": "python",
   "pygments_lexer": "ipython3",
   "version": "3.9.12"
  },
  "orig_nbformat": 4,
  "vscode": {
   "interpreter": {
    "hash": "41f7ba8645af086de5a2c668809fdb57629028366d5687fb2c6a0345f663f190"
   }
  }
 },
 "nbformat": 4,
 "nbformat_minor": 2
}
