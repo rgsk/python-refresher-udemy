{
 "cells": [
  {
   "cell_type": "code",
   "execution_count": 2,
   "metadata": {},
   "outputs": [
    {
     "name": "stdout",
     "output_type": "stream",
     "text": [
      "1234\n"
     ]
    }
   ],
   "source": [
    "user = {\n",
    "    'username': 'Rahul',\n",
    "    'access_level': 'admin'\n",
    "}\n",
    "\n",
    "def is_admin(fun):\n",
    "    if user['access_level'] == 'admin':\n",
    "        return fun\n",
    "    return lambda: 'user is not an admin'\n",
    "    \n",
    "def get_admin_password():\n",
    "    return \"1234\"\n",
    "\n",
    "# decorators replace this syntax elegantly\n",
    "get_admin_password = is_admin(get_admin_password)\n",
    "\n",
    "print(get_admin_password())"
   ]
  },
  {
   "cell_type": "markdown",
   "metadata": {},
   "source": [
    "we can use the syntax \n",
    "\n",
    "```\n",
    "get_admin_password = is_admin(get_admin_password)\n",
    "```\n",
    "\n",
    "but we are can't prevent the situation when the function is called before passing it through the is_admin function \n",
    "```\n",
    "print(get_admin_password())\n",
    "get_admin_password = is_admin(get_admin_password)\n",
    "```\n",
    "\n",
    "so to simplify a decorator can be called just above the function definition \n",
    "```\n",
    "@is_admin\n",
    "def get_admin_password():\n",
    "    return \"1234\"\n",
    "\n",
    "```"
   ]
  },
  {
   "cell_type": "code",
   "execution_count": 3,
   "metadata": {},
   "outputs": [
    {
     "name": "stdout",
     "output_type": "stream",
     "text": [
      "1234\n"
     ]
    }
   ],
   "source": [
    "user = {\n",
    "    'username': 'Rahul',\n",
    "    'access_level': 'admin'\n",
    "}\n",
    "\n",
    "def is_admin(fun):\n",
    "    if user['access_level'] == 'admin':\n",
    "        return fun\n",
    "    return lambda: 'user is not the admin can\\'t reveal the password'\n",
    "    \n",
    "@is_admin\n",
    "def get_admin_password():\n",
    "    return \"1234\"\n",
    "\n",
    "\n",
    "\n",
    "print(get_admin_password())"
   ]
  },
  {
   "cell_type": "code",
   "execution_count": 4,
   "metadata": {},
   "outputs": [
    {
     "ename": "NameError",
     "evalue": "name 'user_1' is not defined",
     "output_type": "error",
     "traceback": [
      "\u001b[0;31m---------------------------------------------------------------------------\u001b[0m",
      "\u001b[0;31mNameError\u001b[0m                                 Traceback (most recent call last)",
      "\u001b[1;32m/Users/rahulgupta/Desktop/practice/python-refresher-udemy/46_decorators.ipynb Cell 3\u001b[0m in \u001b[0;36m<cell line: 7>\u001b[0;34m()\u001b[0m\n\u001b[1;32m      <a href='vscode-notebook-cell:/Users/rahulgupta/Desktop/practice/python-refresher-udemy/46_decorators.ipynb#W6sZmlsZQ%3D%3D?line=3'>4</a>\u001b[0m     \u001b[39mreturn\u001b[39;00m \u001b[39mlambda\u001b[39;00m: \u001b[39m'\u001b[39m\u001b[39muser is not the admin can\u001b[39m\u001b[39m\\'\u001b[39;00m\u001b[39mt reveal the password\u001b[39m\u001b[39m'\u001b[39m\n\u001b[1;32m      <a href='vscode-notebook-cell:/Users/rahulgupta/Desktop/practice/python-refresher-udemy/46_decorators.ipynb#W6sZmlsZQ%3D%3D?line=5'>6</a>\u001b[0m \u001b[39m# NameError: name 'user' is not defined\u001b[39;00m\n\u001b[1;32m      <a href='vscode-notebook-cell:/Users/rahulgupta/Desktop/practice/python-refresher-udemy/46_decorators.ipynb#W6sZmlsZQ%3D%3D?line=6'>7</a>\u001b[0m \u001b[39m@is_admin\u001b[39;49m\n\u001b[0;32m----> <a href='vscode-notebook-cell:/Users/rahulgupta/Desktop/practice/python-refresher-udemy/46_decorators.ipynb#W6sZmlsZQ%3D%3D?line=7'>8</a>\u001b[0m \u001b[39mdef\u001b[39;49;00m \u001b[39mget_admin_password\u001b[39;49m():\n\u001b[1;32m      <a href='vscode-notebook-cell:/Users/rahulgupta/Desktop/practice/python-refresher-udemy/46_decorators.ipynb#W6sZmlsZQ%3D%3D?line=8'>9</a>\u001b[0m     \u001b[39mreturn\u001b[39;49;00m \u001b[39m\"\u001b[39;49m\u001b[39m1234\u001b[39;49m\u001b[39m\"\u001b[39;49m\n\u001b[1;32m     <a href='vscode-notebook-cell:/Users/rahulgupta/Desktop/practice/python-refresher-udemy/46_decorators.ipynb#W6sZmlsZQ%3D%3D?line=10'>11</a>\u001b[0m user_1 \u001b[39m=\u001b[39m {\n\u001b[1;32m     <a href='vscode-notebook-cell:/Users/rahulgupta/Desktop/practice/python-refresher-udemy/46_decorators.ipynb#W6sZmlsZQ%3D%3D?line=11'>12</a>\u001b[0m     \u001b[39m'\u001b[39m\u001b[39musername\u001b[39m\u001b[39m'\u001b[39m: \u001b[39m'\u001b[39m\u001b[39mRahul\u001b[39m\u001b[39m'\u001b[39m,\n\u001b[1;32m     <a href='vscode-notebook-cell:/Users/rahulgupta/Desktop/practice/python-refresher-udemy/46_decorators.ipynb#W6sZmlsZQ%3D%3D?line=12'>13</a>\u001b[0m     \u001b[39m'\u001b[39m\u001b[39maccess_level\u001b[39m\u001b[39m'\u001b[39m: \u001b[39m'\u001b[39m\u001b[39madmin\u001b[39m\u001b[39m'\u001b[39m\n\u001b[1;32m     <a href='vscode-notebook-cell:/Users/rahulgupta/Desktop/practice/python-refresher-udemy/46_decorators.ipynb#W6sZmlsZQ%3D%3D?line=13'>14</a>\u001b[0m }\n",
      "\u001b[1;32m/Users/rahulgupta/Desktop/practice/python-refresher-udemy/46_decorators.ipynb Cell 3\u001b[0m in \u001b[0;36mis_admin\u001b[0;34m(fun)\u001b[0m\n\u001b[1;32m      <a href='vscode-notebook-cell:/Users/rahulgupta/Desktop/practice/python-refresher-udemy/46_decorators.ipynb#W6sZmlsZQ%3D%3D?line=0'>1</a>\u001b[0m \u001b[39mdef\u001b[39;00m \u001b[39mis_admin\u001b[39m(fun):\n\u001b[0;32m----> <a href='vscode-notebook-cell:/Users/rahulgupta/Desktop/practice/python-refresher-udemy/46_decorators.ipynb#W6sZmlsZQ%3D%3D?line=1'>2</a>\u001b[0m     \u001b[39mif\u001b[39;00m user_1[\u001b[39m'\u001b[39m\u001b[39maccess_level\u001b[39m\u001b[39m'\u001b[39m] \u001b[39m==\u001b[39m \u001b[39m'\u001b[39m\u001b[39madmin\u001b[39m\u001b[39m'\u001b[39m:\n\u001b[1;32m      <a href='vscode-notebook-cell:/Users/rahulgupta/Desktop/practice/python-refresher-udemy/46_decorators.ipynb#W6sZmlsZQ%3D%3D?line=2'>3</a>\u001b[0m         \u001b[39mreturn\u001b[39;00m fun\n\u001b[1;32m      <a href='vscode-notebook-cell:/Users/rahulgupta/Desktop/practice/python-refresher-udemy/46_decorators.ipynb#W6sZmlsZQ%3D%3D?line=3'>4</a>\u001b[0m     \u001b[39mreturn\u001b[39;00m \u001b[39mlambda\u001b[39;00m: \u001b[39m'\u001b[39m\u001b[39muser is not the admin can\u001b[39m\u001b[39m\\'\u001b[39;00m\u001b[39mt reveal the password\u001b[39m\u001b[39m'\u001b[39m\n",
      "\u001b[0;31mNameError\u001b[0m: name 'user_1' is not defined"
     ]
    }
   ],
   "source": [
    "\n",
    "def is_admin(fun):\n",
    "    if user_1['access_level'] == 'admin':\n",
    "        return fun\n",
    "    return lambda: 'user is not the admin can\\'t reveal the password'\n",
    "    \n",
    "# NameError: name 'user1' is not defined\n",
    "@is_admin\n",
    "def get_admin_password():\n",
    "    return \"1234\"\n",
    "\n",
    "user_1 = {\n",
    "    'username': 'Rahul',\n",
    "    'access_level': 'admin'\n",
    "}\n",
    "\n",
    "print(get_admin_password())"
   ]
  },
  {
   "cell_type": "code",
   "execution_count": null,
   "metadata": {},
   "outputs": [],
   "source": [
    "user = {\n",
    "    'username': 'Rahul',\n",
    "    'access_level': 'guest'\n",
    "}\n",
    "\n",
    "def is_admin(fun):\n",
    "    if user['access_level'] == 'admin':\n",
    "        return fun\n",
    "    return lambda: 'user is not the admin can\\'t reveal the password'\n",
    "\n",
    "\n",
    "# decorator in this case is evaluated when its difined in below line\n",
    "@is_admin\n",
    "def get_admin_password():\n",
    "    return \"1234\"\n",
    "\n",
    "user = {\n",
    "    'username': 'Rahul',\n",
    "    'access_level': 'admin'\n",
    "}\n",
    "\n",
    "print(get_admin_password())"
   ]
  },
  {
   "cell_type": "code",
   "execution_count": 6,
   "metadata": {},
   "outputs": [
    {
     "name": "stdout",
     "output_type": "stream",
     "text": [
      "1234\n"
     ]
    }
   ],
   "source": [
    "user = {\n",
    "    'username': 'Rahul',\n",
    "    'access_level': 'guest'\n",
    "}\n",
    "\n",
    "def is_admin(fun):\n",
    "    def secure_function():\n",
    "        if user['access_level'] == 'admin':\n",
    "            return fun()\n",
    "        else: \n",
    "            return f'No admin permissions for {user[\"username\"]}'\n",
    "    return secure_function\n",
    "\n",
    "@is_admin\n",
    "def get_admin_password():\n",
    "    return \"1234\"\n",
    "\n",
    "user = {\n",
    "    'username': 'Rahul',\n",
    "    'access_level': 'admin'\n",
    "}\n",
    "\n",
    "print(get_admin_password())"
   ]
  },
  {
   "cell_type": "code",
   "execution_count": 3,
   "metadata": {},
   "outputs": [
    {
     "name": "stdout",
     "output_type": "stream",
     "text": [
      "No admin permissions for Rahul\n"
     ]
    }
   ],
   "source": [
    "def is_admin(fun):\n",
    "    def secure_function():\n",
    "        if user['access_level'] == 'admin':\n",
    "            return fun()\n",
    "        else: \n",
    "            return f'No admin permissions for {user[\"username\"]}'\n",
    "    return secure_function\n",
    "\n",
    "@is_admin\n",
    "def get_admin_password():\n",
    "    return \"1234\"\n",
    "\n",
    "user = {\n",
    "    'username': 'Rahul',\n",
    "    'access_level': 'guest'\n",
    "}\n",
    "\n",
    "print(get_admin_password())"
   ]
  }
 ],
 "metadata": {
  "kernelspec": {
   "display_name": "Python 3.9.12 ('base')",
   "language": "python",
   "name": "python3"
  },
  "language_info": {
   "codemirror_mode": {
    "name": "ipython",
    "version": 3
   },
   "file_extension": ".py",
   "mimetype": "text/x-python",
   "name": "python",
   "nbconvert_exporter": "python",
   "pygments_lexer": "ipython3",
   "version": "3.9.12"
  },
  "orig_nbformat": 4,
  "vscode": {
   "interpreter": {
    "hash": "41f7ba8645af086de5a2c668809fdb57629028366d5687fb2c6a0345f663f190"
   }
  }
 },
 "nbformat": 4,
 "nbformat_minor": 2
}
