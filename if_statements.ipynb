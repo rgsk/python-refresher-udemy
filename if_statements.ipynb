{
 "cells": [
  {
   "cell_type": "code",
   "execution_count": 7,
   "metadata": {},
   "outputs": [
    {
     "name": "stdout",
     "output_type": "stream",
     "text": [
      "Have a great start to your week!\n",
      "This always runs\n"
     ]
    }
   ],
   "source": [
    "day_of_week = input(\"What day of the week is it today? \").lower()\n",
    "\n",
    "if day_of_week == \"monday\":\n",
    "    print(\"Have a great start to your week!\")\n",
    "elif day_of_week == 'tuesday':\n",
    "    print(\"It's Tuesday.\")\n",
    "else:\n",
    "    print(\"Full speed ahead!\")\n",
    "\n",
    "print(\"This always runs\")\n",
    "\n"
   ]
  },
  {
   "cell_type": "code",
   "execution_count": null,
   "metadata": {},
   "outputs": [],
   "source": []
  }
 ],
 "metadata": {
  "kernelspec": {
   "display_name": "Python 3.9.12 ('base')",
   "language": "python",
   "name": "python3"
  },
  "language_info": {
   "codemirror_mode": {
    "name": "ipython",
    "version": 3
   },
   "file_extension": ".py",
   "mimetype": "text/x-python",
   "name": "python",
   "nbconvert_exporter": "python",
   "pygments_lexer": "ipython3",
   "version": "3.9.12"
  },
  "orig_nbformat": 4,
  "vscode": {
   "interpreter": {
    "hash": "41f7ba8645af086de5a2c668809fdb57629028366d5687fb2c6a0345f663f190"
   }
  }
 },
 "nbformat": 4,
 "nbformat_minor": 2
}
