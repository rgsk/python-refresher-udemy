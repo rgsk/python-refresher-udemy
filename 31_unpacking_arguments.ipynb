{
 "cells": [
  {
   "cell_type": "code",
   "execution_count": 7,
   "metadata": {},
   "outputs": [
    {
     "name": "stdout",
     "output_type": "stream",
     "text": [
      "(1, 3, 5)\n",
      "15\n"
     ]
    }
   ],
   "source": [
    "def multiply(*args):\n",
    "    print(args)\n",
    "    total = 1\n",
    "    for arg in args:\n",
    "        total *= arg\n",
    "    return total \n",
    " \n",
    "print(multiply(1, 3, 5)) "
   ]
  },
  {
   "cell_type": "code",
   "execution_count": 6,
   "metadata": {},
   "outputs": [
    {
     "name": "stdout",
     "output_type": "stream",
     "text": [
      "2\n",
      "(3, 4, 5, 6)\n"
     ]
    }
   ],
   "source": [
    "def multiply_except_first(first, *rest_args):\n",
    "    print(first)\n",
    "    print(rest_args)\n",
    " \n",
    "multiply_except_first(2, 3, 4, 5, 6)"
   ]
  },
  {
   "cell_type": "code",
   "execution_count": 8,
   "metadata": {},
   "outputs": [
    {
     "name": "stdout",
     "output_type": "stream",
     "text": [
      "8\n"
     ]
    }
   ],
   "source": [
    "def add(x, y):\n",
    "    return x + y\n",
    "\n",
    "nums = [3, 5]\n",
    "print(add(*nums))"
   ]
  },
  {
   "cell_type": "code",
   "execution_count": 9,
   "metadata": {},
   "outputs": [
    {
     "name": "stdout",
     "output_type": "stream",
     "text": [
      "40\n"
     ]
    }
   ],
   "source": [
    "def add(x, y):\n",
    "    return x + y\n",
    "\n",
    "nums = {\n",
    "    'x': 15,\n",
    "    'y': 25\n",
    "}\n",
    "print(add(**nums))"
   ]
  },
  {
   "cell_type": "code",
   "execution_count": 12,
   "metadata": {},
   "outputs": [
    {
     "name": "stdout",
     "output_type": "stream",
     "text": [
      "(1, 2, 3, 4)\n",
      "10\n"
     ]
    }
   ],
   "source": [
    "def first(*args, v):\n",
    "    print(args)\n",
    "    print(v)\n",
    "\n",
    "first(1, 2, 3, 4, v=10)"
   ]
  },
  {
   "cell_type": "code",
   "execution_count": 14,
   "metadata": {},
   "outputs": [
    {
     "name": "stdout",
     "output_type": "stream",
     "text": [
      "24\n",
      "10\n"
     ]
    }
   ],
   "source": [
    "def multiply(*args):\n",
    "    total = 1\n",
    "    for arg in args:\n",
    "        total *= arg\n",
    "    return total\n",
    "\n",
    "def apply(*args, operator):\n",
    "    if operator == '*':\n",
    "        return multiply(*args)\n",
    "    elif operator == '+':\n",
    "        return sum(args)\n",
    "    else:\n",
    "        return 'No valid operator provided to apply().'\n",
    "\n",
    "print(apply(1, 2, 3, 4, operator='*'))\n",
    "print(apply(1, 2, 3, 4, operator='+'))"
   ]
  },
  {
   "cell_type": "code",
   "execution_count": 16,
   "metadata": {},
   "outputs": [
    {
     "name": "stdout",
     "output_type": "stream",
     "text": [
      "1\n",
      "(2, 3, 4, 5)\n",
      "9\n",
      "1\n"
     ]
    }
   ],
   "source": [
    "def first(f,*args, v,j):\n",
    "    print(f)\n",
    "    print(args)\n",
    "    print(v)\n",
    "    print(j)\n",
    "\n",
    "first(1,2,3,4,5,v=9,j=1)\n"
   ]
  }
 ],
 "metadata": {
  "kernelspec": {
   "display_name": "Python 3.9.12 ('base')",
   "language": "python",
   "name": "python3"
  },
  "language_info": {
   "codemirror_mode": {
    "name": "ipython",
    "version": 3
   },
   "file_extension": ".py",
   "mimetype": "text/x-python",
   "name": "python",
   "nbconvert_exporter": "python",
   "pygments_lexer": "ipython3",
   "version": "3.9.12"
  },
  "orig_nbformat": 4,
  "vscode": {
   "interpreter": {
    "hash": "41f7ba8645af086de5a2c668809fdb57629028366d5687fb2c6a0345f663f190"
   }
  }
 },
 "nbformat": 4,
 "nbformat_minor": 2
}
