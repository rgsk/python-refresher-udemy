{
 "cells": [
  {
   "cell_type": "code",
   "execution_count": 14,
   "metadata": {},
   "outputs": [
    {
     "name": "stdout",
     "output_type": "stream",
     "text": [
      "{'Rolf'}\n"
     ]
    }
   ],
   "source": [
    "friends = {\"Bob\", \"Rolf\", 'Anne'}\n",
    "abroad = {\"Bob\", \"Anne\"}\n",
    "local_friends = friends.difference(abroad)\n",
    "print(local_friends)"
   ]
  },
  {
   "cell_type": "code",
   "execution_count": 15,
   "metadata": {},
   "outputs": [
    {
     "name": "stdout",
     "output_type": "stream",
     "text": [
      "{'Rolf'}\n"
     ]
    }
   ],
   "source": [
    "friends = {\"Bob\", \"Rolf\", 'Anne'}\n",
    "abroad = {\"Bob\", \"Anne\"}\n",
    "local_friends = friends - abroad\n",
    "print(local_friends)"
   ]
  },
  {
   "cell_type": "code",
   "execution_count": 16,
   "metadata": {},
   "outputs": [
    {
     "name": "stdout",
     "output_type": "stream",
     "text": [
      "{'Rolf', 'Anne', 'Bob'}\n",
      "{'Rolf', 'Anne', 'Bob'}\n"
     ]
    }
   ],
   "source": [
    "local_friends = {'Rolf'}\n",
    "abroad = {\"Bob\", \"Anne\"}\n",
    "\n",
    "print(local_friends.union(abroad))\n",
    "print(local_friends | abroad)"
   ]
  },
  {
   "cell_type": "code",
   "execution_count": 17,
   "metadata": {},
   "outputs": [
    {
     "name": "stdout",
     "output_type": "stream",
     "text": [
      "{'Bob', 'Jen'}\n",
      "{'Bob', 'Jen'}\n"
     ]
    }
   ],
   "source": [
    "art = {\"Bob\", \"Jen\", \"Rolf\", \"Charlie\"}\n",
    "science = {\"Bob\", \"Jen\", \"Adam\", \"Anne\"}\n",
    "print(art.intersection(science))\n",
    "print(art & science)"
   ]
  },
  {
   "cell_type": "code",
   "execution_count": 18,
   "metadata": {},
   "outputs": [
    {
     "name": "stdout",
     "output_type": "stream",
     "text": [
      "{'Adam', 'Charlie', 'Anne', 'Rolf'}\n",
      "{'Adam', 'Charlie', 'Anne', 'Rolf'}\n",
      "{'Rolf', 'Anne', 'Adam', 'Charlie'}\n"
     ]
    }
   ],
   "source": [
    "art = {\"Bob\", \"Jen\", \"Rolf\", \"Charlie\"}\n",
    "science = {\"Bob\", \"Jen\", \"Adam\", \"Anne\"}\n",
    "print(art.symmetric_difference(science))\n",
    "print(art ^ science)\n",
    "print((art | science) - (art & science))"
   ]
  }
 ],
 "metadata": {
  "kernelspec": {
   "display_name": "Python 3.9.12 ('base')",
   "language": "python",
   "name": "python3"
  },
  "language_info": {
   "codemirror_mode": {
    "name": "ipython",
    "version": 3
   },
   "file_extension": ".py",
   "mimetype": "text/x-python",
   "name": "python",
   "nbconvert_exporter": "python",
   "pygments_lexer": "ipython3",
   "version": "3.9.12"
  },
  "orig_nbformat": 4,
  "vscode": {
   "interpreter": {
    "hash": "41f7ba8645af086de5a2c668809fdb57629028366d5687fb2c6a0345f663f190"
   }
  }
 },
 "nbformat": 4,
 "nbformat_minor": 2
}
