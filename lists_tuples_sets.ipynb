{
 "cells": [
  {
   "cell_type": "code",
   "execution_count": 60,
   "metadata": {},
   "outputs": [],
   "source": [
    "l = [\"Bob\", \"Rolf\", \"Anne\"] # list\n",
    "# mutable\n",
    "# list keeps the order"
   ]
  },
  {
   "cell_type": "code",
   "execution_count": 61,
   "metadata": {},
   "outputs": [],
   "source": [
    "t = (\"Bob\", \"Rolf\", \"Anne\") # tuple\n",
    "# immutable "
   ]
  },
  {
   "cell_type": "code",
   "execution_count": 62,
   "metadata": {},
   "outputs": [],
   "source": [
    "s = {\"Bob\", \"Rolf\", \"Anne\"}\n",
    "# order is not guaranteed \n",
    "# values can't repeat"
   ]
  },
  {
   "cell_type": "markdown",
   "metadata": {},
   "source": [
    "### subscript notation"
   ]
  },
  {
   "cell_type": "code",
   "execution_count": 63,
   "metadata": {},
   "outputs": [
    {
     "name": "stdout",
     "output_type": "stream",
     "text": [
      "Bob\n"
     ]
    }
   ],
   "source": [
    "print(l[0]) # element with index 0"
   ]
  },
  {
   "cell_type": "code",
   "execution_count": 64,
   "metadata": {},
   "outputs": [
    {
     "name": "stdout",
     "output_type": "stream",
     "text": [
      "['Rahul', 'Rolf', 'Anne']\n"
     ]
    }
   ],
   "source": [
    "l[0] = \"Rahul\" \n",
    "print(l)"
   ]
  },
  {
   "cell_type": "code",
   "execution_count": 65,
   "metadata": {},
   "outputs": [
    {
     "data": {
      "text/plain": [
       "\"\\n---------------------------------------------------------------------------\\nTypeError                                 Traceback (most recent call last)\\n/Users/rahulgupta/Desktop/practice/python-refresher-udemy/lists_tuples_sets.ipynb Cell 7 in <cell line: 1>()\\n----> 1 t[0] = 'some error would occur'\\n\\nTypeError: 'tuple' object does not support item assignment\\n\""
      ]
     },
     "execution_count": 65,
     "metadata": {},
     "output_type": "execute_result"
    }
   ],
   "source": [
    "# t[0] = 'some error would occur'\n",
    "\n",
    "'''\n",
    "---------------------------------------------------------------------------\n",
    "TypeError                                 Traceback (most recent call last)\n",
    "/Users/rahulgupta/Desktop/practice/python-refresher-udemy/lists_tuples_sets.ipynb Cell 7 in <cell line: 1>()\n",
    "----> 1 t[0] = 'some error would occur'\n",
    "\n",
    "TypeError: 'tuple' object does not support item assignment\n",
    "'''"
   ]
  },
  {
   "cell_type": "code",
   "execution_count": 66,
   "metadata": {},
   "outputs": [
    {
     "name": "stdout",
     "output_type": "stream",
     "text": [
      "['Rahul', 'Rolf', 'Anne', 'Smith']\n"
     ]
    }
   ],
   "source": [
    "l.append('Smith')\n",
    "print(l)"
   ]
  },
  {
   "cell_type": "code",
   "execution_count": 67,
   "metadata": {},
   "outputs": [
    {
     "name": "stdout",
     "output_type": "stream",
     "text": [
      "['Rahul', 'Anne', 'Smith']\n"
     ]
    }
   ],
   "source": [
    "l.remove('Rolf')\n",
    "print(l)"
   ]
  },
  {
   "cell_type": "code",
   "execution_count": 68,
   "metadata": {},
   "outputs": [
    {
     "name": "stdout",
     "output_type": "stream",
     "text": [
      "{'Bob', 'Smith', 'Rolf', 'Anne'}\n"
     ]
    }
   ],
   "source": [
    "s.add('Smith')\n",
    "s.add('Smith')\n",
    "print(s)"
   ]
  }
 ],
 "metadata": {
  "kernelspec": {
   "display_name": "Python 3.9.12 ('base')",
   "language": "python",
   "name": "python3"
  },
  "language_info": {
   "codemirror_mode": {
    "name": "ipython",
    "version": 3
   },
   "file_extension": ".py",
   "mimetype": "text/x-python",
   "name": "python",
   "nbconvert_exporter": "python",
   "pygments_lexer": "ipython3",
   "version": "3.9.12"
  },
  "orig_nbformat": 4,
  "vscode": {
   "interpreter": {
    "hash": "41f7ba8645af086de5a2c668809fdb57629028366d5687fb2c6a0345f663f190"
   }
  }
 },
 "nbformat": 4,
 "nbformat_minor": 2
}
