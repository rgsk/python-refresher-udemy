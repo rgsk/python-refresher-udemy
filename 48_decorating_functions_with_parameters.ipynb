{
 "cells": [
  {
   "cell_type": "code",
   "execution_count": 4,
   "metadata": {},
   "outputs": [
    {
     "name": "stdout",
     "output_type": "stream",
     "text": [
      "1234\n",
      "super_secure_password\n"
     ]
    }
   ],
   "source": [
    "import functools\n",
    "\n",
    "\n",
    "user = {\n",
    "    'username': 'Rahul',\n",
    "    'access_level': 'admin'\n",
    "}\n",
    "\n",
    "def make_secure(fun):\n",
    "    @functools.wraps(fun)\n",
    "    def secure_function(*args, **kwargs):\n",
    "        if user['access_level'] == 'admin':\n",
    "            return fun(*args, **kwargs)\n",
    "        else: \n",
    "            return f'No admin permissions for {user[\"username\"]}'\n",
    "    return secure_function\n",
    "\n",
    "@make_secure\n",
    "def get_password(panel):\n",
    "    if panel == 'admin':\n",
    "        return \"1234\"\n",
    "    elif panel == 'billing':\n",
    "        return 'super_secure_password'\n",
    "\n",
    "print(get_password('admin'))\n",
    "print(get_password('billing'))"
   ]
  }
 ],
 "metadata": {
  "kernelspec": {
   "display_name": "Python 3.9.12 ('base')",
   "language": "python",
   "name": "python3"
  },
  "language_info": {
   "codemirror_mode": {
    "name": "ipython",
    "version": 3
   },
   "file_extension": ".py",
   "mimetype": "text/x-python",
   "name": "python",
   "nbconvert_exporter": "python",
   "pygments_lexer": "ipython3",
   "version": "3.9.12"
  },
  "orig_nbformat": 4,
  "vscode": {
   "interpreter": {
    "hash": "41f7ba8645af086de5a2c668809fdb57629028366d5687fb2c6a0345f663f190"
   }
  }
 },
 "nbformat": 4,
 "nbformat_minor": 2
}
