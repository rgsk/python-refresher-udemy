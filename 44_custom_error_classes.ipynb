{
 "cells": [
  {
   "cell_type": "code",
   "execution_count": 12,
   "metadata": {},
   "outputs": [
    {
     "name": "stdout",
     "output_type": "stream",
     "text": [
      "Book Harry Potter, read 0 pages out of 20\n",
      "You have read 10 pages out of 20\n",
      "Book Harry Potter, read 10 pages out of 20\n",
      "can't read that many pages\n"
     ]
    }
   ],
   "source": [
    "# below we can extend from any builtin Error (which extends from Exception) or from Exception class itself\n",
    "class TooManyPagesReadError(ValueError):\n",
    "    pass\n",
    "\n",
    "class Book:\n",
    "    def __init__(self, name: str, page_count: int) -> None:\n",
    "        self.name = name\n",
    "        self.page_count = page_count\n",
    "        self.pages_read = 0\n",
    "\n",
    "    def __repr__(self) -> str:\n",
    "        return (\n",
    "            f'Book {self.name}, read {self.pages_read} pages out of {self.page_count}'\n",
    "        )\n",
    "    \n",
    "    def read(self, pages: int):\n",
    "        if (self.pages_read + pages > self.page_count):\n",
    "            raise TooManyPagesReadError('can\\'t read that many pages')\n",
    "        self.pages_read += pages\n",
    "        print(f'You have read {self.pages_read} pages out of {self.page_count}')\n",
    "\n",
    "harry_potter_book = Book('Harry Potter', 20)\n",
    "print(harry_potter_book)\n",
    "harry_potter_book.read(10)\n",
    "print(harry_potter_book)\n",
    "\n",
    "try:\n",
    "    harry_potter_book.read(15)\n",
    "    print(harry_potter_book)\n",
    "except TooManyPagesReadError as e:\n",
    "    print(e)"
   ]
  }
 ],
 "metadata": {
  "kernelspec": {
   "display_name": "Python 3.9.12 ('base')",
   "language": "python",
   "name": "python3"
  },
  "language_info": {
   "codemirror_mode": {
    "name": "ipython",
    "version": 3
   },
   "file_extension": ".py",
   "mimetype": "text/x-python",
   "name": "python",
   "nbconvert_exporter": "python",
   "pygments_lexer": "ipython3",
   "version": "3.9.12"
  },
  "orig_nbformat": 4,
  "vscode": {
   "interpreter": {
    "hash": "41f7ba8645af086de5a2c668809fdb57629028366d5687fb2c6a0345f663f190"
   }
  }
 },
 "nbformat": 4,
 "nbformat_minor": 2
}
