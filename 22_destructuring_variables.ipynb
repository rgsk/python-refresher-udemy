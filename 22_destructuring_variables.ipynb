{
 "cells": [
  {
   "cell_type": "code",
   "execution_count": 2,
   "metadata": {},
   "outputs": [
    {
     "name": "stdout",
     "output_type": "stream",
     "text": [
      "5\n",
      "11\n"
     ]
    }
   ],
   "source": [
    "x,y = 5, 11\n",
    "print(x)\n",
    "print(y)"
   ]
  },
  {
   "cell_type": "code",
   "execution_count": 3,
   "metadata": {},
   "outputs": [
    {
     "name": "stdout",
     "output_type": "stream",
     "text": [
      "[('Rolf', 96), ('Bob', 80), ('Anne', 100)]\n"
     ]
    }
   ],
   "source": [
    "student_attendace = {\"Rolf\": 96, \"Bob\": 80, \"Anne\": 100}\n",
    "print(list(student_attendace.items()))"
   ]
  },
  {
   "cell_type": "code",
   "execution_count": 4,
   "metadata": {},
   "outputs": [
    {
     "name": "stdout",
     "output_type": "stream",
     "text": [
      "Bob\n",
      "Mechanic\n"
     ]
    }
   ],
   "source": [
    "person = (\"Bob\", 42, \"Mechanic\")\n",
    "name, _, profession = person # skipping age (42) variable since we don't need it\n",
    "print(name)\n",
    "print(profession)"
   ]
  },
  {
   "cell_type": "code",
   "execution_count": 5,
   "metadata": {},
   "outputs": [
    {
     "name": "stdout",
     "output_type": "stream",
     "text": [
      "1\n",
      "[2, 3, 4, 5]\n"
     ]
    }
   ],
   "source": [
    "head, *tail = [1, 2, 3, 4, 5]\n",
    "print(head)\n",
    "print(tail)"
   ]
  },
  {
   "cell_type": "code",
   "execution_count": 6,
   "metadata": {},
   "outputs": [
    {
     "name": "stdout",
     "output_type": "stream",
     "text": [
      "1\n",
      "[2, 3, 4, 5]\n"
     ]
    }
   ],
   "source": [
    "head, *tail = (1, 2, 3, 4, 5) # destructuring from tuple also gave list\n",
    "print(head)\n",
    "print(tail)"
   ]
  },
  {
   "cell_type": "code",
   "execution_count": 7,
   "metadata": {},
   "outputs": [
    {
     "name": "stdout",
     "output_type": "stream",
     "text": [
      "[1, 2, 3, 4]\n",
      "5\n"
     ]
    }
   ],
   "source": [
    "*head, tail = [1, 2, 3, 4, 5]\n",
    "print(head)\n",
    "print(tail)"
   ]
  },
  {
   "cell_type": "code",
   "execution_count": 11,
   "metadata": {},
   "outputs": [
    {
     "name": "stdout",
     "output_type": "stream",
     "text": [
      "{'head': [1, 2, 3], 'second_last': 4, 'tail': 5}\n"
     ]
    }
   ],
   "source": [
    "*head, second_last, tail = [1, 2, 3, 4, 5]\n",
    "print({\n",
    "    \"head\": head,\n",
    "    \"second_last\": second_last,\n",
    "    \"tail\": tail\n",
    "})"
   ]
  }
 ],
 "metadata": {
  "kernelspec": {
   "display_name": "Python 3.9.12 ('base')",
   "language": "python",
   "name": "python3"
  },
  "language_info": {
   "codemirror_mode": {
    "name": "ipython",
    "version": 3
   },
   "file_extension": ".py",
   "mimetype": "text/x-python",
   "name": "python",
   "nbconvert_exporter": "python",
   "pygments_lexer": "ipython3",
   "version": "3.9.12"
  },
  "orig_nbformat": 4,
  "vscode": {
   "interpreter": {
    "hash": "41f7ba8645af086de5a2c668809fdb57629028366d5687fb2c6a0345f663f190"
   }
  }
 },
 "nbformat": 4,
 "nbformat_minor": 2
}
