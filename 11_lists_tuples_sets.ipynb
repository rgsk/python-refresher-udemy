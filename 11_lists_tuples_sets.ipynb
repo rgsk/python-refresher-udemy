{
 "cells": [
  {
   "cell_type": "code",
   "execution_count": 1,
   "metadata": {},
   "outputs": [
    {
     "name": "stdout",
     "output_type": "stream",
     "text": [
      "['Bob', 'Rolf', 'Anne']\n"
     ]
    }
   ],
   "source": [
    "#     0        1      2\n",
    "l = [\"Bob\", \"Rolf\", \"Anne\"] # list\n",
    "# mutable\n",
    "# list keeps the order\n",
    "print(l)"
   ]
  },
  {
   "cell_type": "code",
   "execution_count": 11,
   "metadata": {},
   "outputs": [],
   "source": [
    "t = (\"Bob\", \"Rolf\", \"Anne\") # tuple\n",
    "# immutable "
   ]
  },
  {
   "cell_type": "code",
   "execution_count": 12,
   "metadata": {},
   "outputs": [],
   "source": [
    "s = {\"Bob\", \"Rolf\", \"Anne\"}\n",
    "# order is not guaranteed \n",
    "# values can't repeat"
   ]
  },
  {
   "cell_type": "markdown",
   "metadata": {},
   "source": [
    "### subscript notation"
   ]
  },
  {
   "cell_type": "code",
   "execution_count": 2,
   "metadata": {},
   "outputs": [
    {
     "name": "stdout",
     "output_type": "stream",
     "text": [
      "Anne\n"
     ]
    }
   ],
   "source": [
    "print(l[2]) # element with index 0"
   ]
  },
  {
   "cell_type": "code",
   "execution_count": 14,
   "metadata": {},
   "outputs": [
    {
     "name": "stdout",
     "output_type": "stream",
     "text": [
      "['Rahul', 'Rolf', 'Anne']\n"
     ]
    }
   ],
   "source": [
    "l[0] = \"Rahul\" \n",
    "print(l)"
   ]
  },
  {
   "cell_type": "code",
   "execution_count": 15,
   "metadata": {},
   "outputs": [
    {
     "data": {
      "text/plain": [
       "\"TypeError: 'tuple' object does not support item assignment\""
      ]
     },
     "execution_count": 15,
     "metadata": {},
     "output_type": "execute_result"
    }
   ],
   "source": [
    "# t[0] = 'some error would occur'\n",
    "\n",
    "'''TypeError: 'tuple' object does not support item assignment'''"
   ]
  },
  {
   "cell_type": "code",
   "execution_count": 16,
   "metadata": {},
   "outputs": [
    {
     "name": "stdout",
     "output_type": "stream",
     "text": [
      "['Rahul', 'Rolf', 'Anne', 'Smith']\n"
     ]
    }
   ],
   "source": [
    "l.append('Smith')\n",
    "print(l)"
   ]
  },
  {
   "cell_type": "code",
   "execution_count": 17,
   "metadata": {},
   "outputs": [
    {
     "name": "stdout",
     "output_type": "stream",
     "text": [
      "['Rahul', 'Anne', 'Smith']\n"
     ]
    }
   ],
   "source": [
    "l.remove('Rolf')\n",
    "print(l)"
   ]
  },
  {
   "cell_type": "code",
   "execution_count": 18,
   "metadata": {},
   "outputs": [
    {
     "name": "stdout",
     "output_type": "stream",
     "text": [
      "{'Rolf', 'Anne', 'Bob', 'Smith'}\n"
     ]
    }
   ],
   "source": [
    "s.add('Smith')\n",
    "s.add('Smith')\n",
    "print(s)"
   ]
  },
  {
   "cell_type": "code",
   "execution_count": 4,
   "metadata": {},
   "outputs": [
    {
     "name": "stdout",
     "output_type": "stream",
     "text": [
      "['rahul', 'mehak']\n"
     ]
    }
   ],
   "source": [
    "l = ['rahul', 'mehak', 'vedant']\n",
    "l.pop() # by default last element is removed\n",
    "print(l)"
   ]
  },
  {
   "cell_type": "code",
   "execution_count": 5,
   "metadata": {},
   "outputs": [
    {
     "name": "stdout",
     "output_type": "stream",
     "text": [
      "['rahul', 'vedant']\n"
     ]
    }
   ],
   "source": [
    "l = ['rahul', 'mehak', 'vedant']\n",
    "l.pop(1) # by default last element is removed\n",
    "print(l)"
   ]
  },
  {
   "cell_type": "code",
   "execution_count": 6,
   "metadata": {},
   "outputs": [
    {
     "name": "stdout",
     "output_type": "stream",
     "text": [
      "['rahul', 'vedant']\n"
     ]
    }
   ],
   "source": [
    "#      0         1        2\n",
    "#      -3        -2       -1\n",
    "l = ['rahul', 'mehak', 'vedant']\n",
    "l.pop(-2) # by default last element is removed\n",
    "print(l)"
   ]
  },
  {
   "cell_type": "code",
   "execution_count": 9,
   "metadata": {},
   "outputs": [
    {
     "name": "stdout",
     "output_type": "stream",
     "text": [
      "['rahul', 'value', 'mehak', 'vedant']\n"
     ]
    }
   ],
   "source": [
    "l =  ['rahul', 'mehak', 'vedant']\n",
    "l.insert(1, 'value')\n",
    "print(l)"
   ]
  }
 ],
 "metadata": {
  "kernelspec": {
   "display_name": "Python 3.9.12 ('base')",
   "language": "python",
   "name": "python3"
  },
  "language_info": {
   "codemirror_mode": {
    "name": "ipython",
    "version": 3
   },
   "file_extension": ".py",
   "mimetype": "text/x-python",
   "name": "python",
   "nbconvert_exporter": "python",
   "pygments_lexer": "ipython3",
   "version": "3.9.12"
  },
  "orig_nbformat": 4,
  "vscode": {
   "interpreter": {
    "hash": "41f7ba8645af086de5a2c668809fdb57629028366d5687fb2c6a0345f663f190"
   }
  }
 },
 "nbformat": 4,
 "nbformat_minor": 2
}
