{
 "cells": [
  {
   "cell_type": "code",
   "execution_count": 12,
   "metadata": {},
   "outputs": [
    {
     "name": "stdout",
     "output_type": "stream",
     "text": [
      "name: get_admin_password\n",
      "doc: \n",
      "    get_admin_password returns the password for the admin\n",
      "    \n"
     ]
    }
   ],
   "source": [
    "def get_admin_password():\n",
    "    '''\n",
    "    get_admin_password returns the password for the admin\n",
    "    '''\n",
    "    return \"1234\"\n",
    "\n",
    "print('name:', get_admin_password.__name__)\n",
    "print('doc:',get_admin_password.__doc__)"
   ]
  },
  {
   "cell_type": "code",
   "execution_count": 13,
   "metadata": {},
   "outputs": [
    {
     "name": "stdout",
     "output_type": "stream",
     "text": [
      "secure_function\n",
      "None\n"
     ]
    }
   ],
   "source": [
    "\n",
    "user = {\n",
    "    'username': 'Rahul',\n",
    "    'access_level': 'guest'\n",
    "}\n",
    "\n",
    "def make_secure(fun):\n",
    "    def secure_function():\n",
    "        if user['access_level'] == 'admin':\n",
    "            return fun()\n",
    "        else: \n",
    "            return f'No admin permissions for {user[\"username\"]}'\n",
    "    return secure_function\n",
    "\n",
    "@make_secure\n",
    "def get_admin_password():\n",
    "    '''\n",
    "    get_admin_password returns the password for the admin\n",
    "    '''\n",
    "    return \"1234\"\n",
    "\n",
    "print(get_admin_password.__name__)\n",
    "print(get_admin_password.__doc__)"
   ]
  },
  {
   "cell_type": "code",
   "execution_count": 14,
   "metadata": {},
   "outputs": [
    {
     "name": "stdout",
     "output_type": "stream",
     "text": [
      "get_admin_password\n",
      "\n",
      "    get_admin_password returns the password for the admin\n",
      "    \n"
     ]
    }
   ],
   "source": [
    "import functools\n",
    "user = {\n",
    "    'username': 'Rahul',\n",
    "    'access_level': 'guest'\n",
    "}\n",
    "\n",
    "def make_secure(fun):\n",
    "    @functools.wraps(fun)\n",
    "    def secure_function():\n",
    "        if user['access_level'] == 'admin':\n",
    "            return fun()\n",
    "        else: \n",
    "            return f'No admin permissions for {user[\"username\"]}'\n",
    "    return secure_function\n",
    "\n",
    "@make_secure\n",
    "def get_admin_password():\n",
    "    '''\n",
    "    get_admin_password returns the password for the admin\n",
    "    '''\n",
    "    return \"1234\"\n",
    "\n",
    "print(get_admin_password.__name__)\n",
    "print(get_admin_password.__doc__)"
   ]
  }
 ],
 "metadata": {
  "kernelspec": {
   "display_name": "Python 3.9.12 ('base')",
   "language": "python",
   "name": "python3"
  },
  "language_info": {
   "codemirror_mode": {
    "name": "ipython",
    "version": 3
   },
   "file_extension": ".py",
   "mimetype": "text/x-python",
   "name": "python",
   "nbconvert_exporter": "python",
   "pygments_lexer": "ipython3",
   "version": "3.9.12"
  },
  "orig_nbformat": 4,
  "vscode": {
   "interpreter": {
    "hash": "41f7ba8645af086de5a2c668809fdb57629028366d5687fb2c6a0345f663f190"
   }
  }
 },
 "nbformat": 4,
 "nbformat_minor": 2
}
