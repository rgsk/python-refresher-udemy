{
 "cells": [
  {
   "cell_type": "code",
   "execution_count": 9,
   "metadata": {},
   "outputs": [
    {
     "name": "stdout",
     "output_type": "stream",
     "text": [
      "13\n",
      "7\n",
      "13\n"
     ]
    }
   ],
   "source": [
    "def add(x, y = 8):\n",
    "    print(x + y)\n",
    "\n",
    "add(5)\n",
    "add(5, 2)\n",
    "add(x=5)\n",
    "# add(y=2) # TypeError: add() missing 1 required positional argument: 'x'"
   ]
  },
  {
   "cell_type": "code",
   "execution_count": 10,
   "metadata": {},
   "outputs": [
    {
     "data": {
      "text/plain": [
       "'\\nSyntaxError: non-default argument follows default argument\\n'"
      ]
     },
     "execution_count": 10,
     "metadata": {},
     "output_type": "execute_result"
    }
   ],
   "source": [
    "'''\n",
    "def subtract(x=9, y):\n",
    "    return x - y\n",
    "'''\n",
    "'''\n",
    "SyntaxError: non-default argument follows default argument\n",
    "'''\n"
   ]
  },
  {
   "cell_type": "code",
   "execution_count": 11,
   "metadata": {},
   "outputs": [
    {
     "name": "stdout",
     "output_type": "stream",
     "text": [
      "5\n",
      "5\n"
     ]
    }
   ],
   "source": [
    "default_y = 3\n",
    "\n",
    "def add(x, y = default_y):\n",
    "    s = x + y\n",
    "    return s\n",
    "\n",
    "print(add(2))\n",
    "default_y = 10\n",
    "print(add(2))"
   ]
  }
 ],
 "metadata": {
  "kernelspec": {
   "display_name": "Python 3.9.12 ('base')",
   "language": "python",
   "name": "python3"
  },
  "language_info": {
   "codemirror_mode": {
    "name": "ipython",
    "version": 3
   },
   "file_extension": ".py",
   "mimetype": "text/x-python",
   "name": "python",
   "nbconvert_exporter": "python",
   "pygments_lexer": "ipython3",
   "version": "3.9.12"
  },
  "orig_nbformat": 4,
  "vscode": {
   "interpreter": {
    "hash": "41f7ba8645af086de5a2c668809fdb57629028366d5687fb2c6a0345f663f190"
   }
  }
 },
 "nbformat": 4,
 "nbformat_minor": 2
}
