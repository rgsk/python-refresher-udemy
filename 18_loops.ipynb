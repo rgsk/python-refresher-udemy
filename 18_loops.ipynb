{
 "cells": [
  {
   "cell_type": "code",
   "execution_count": 1,
   "metadata": {},
   "outputs": [
    {
     "name": "stdout",
     "output_type": "stream",
     "text": [
      "Sorry, it's wrong!\n",
      "Sorry, it's wrong!\n",
      "You were off by one.\n",
      "You were off by one.\n",
      "You guessed correctly!\n"
     ]
    }
   ],
   "source": [
    "number = 7\n",
    "user_input = input(\"Would you like to play? (Y/n) \").lower()\n",
    "\n",
    "while user_input != \"n\":\n",
    "    user_number = int(input(\"Guess our number: \"))\n",
    "    if user_number == number:\n",
    "        print(\"You guessed correctly!\")\n",
    "        break\n",
    "    elif abs(number - user_number) == 1:\n",
    "        print(\"You were off by one.\")\n",
    "    else:\n",
    "        print(\"Sorry, it's wrong!\")\n"
   ]
  },
  {
   "cell_type": "code",
   "execution_count": 3,
   "metadata": {},
   "outputs": [
    {
     "name": "stdout",
     "output_type": "stream",
     "text": [
      "Rolf is my friend.\n",
      "Jen is my friend.\n",
      "Bob is my friend.\n",
      "Anne is my friend.\n"
     ]
    }
   ],
   "source": [
    "friends = [\"Rolf\", \"Jen\", \"Bob\", \"Anne\"]\n",
    "for friend in friends:\n",
    "    print(f\"{friend} is my friend.\")"
   ]
  },
  {
   "cell_type": "code",
   "execution_count": 4,
   "metadata": {},
   "outputs": [
    {
     "name": "stdout",
     "output_type": "stream",
     "text": [
      "Average is 80.0\n"
     ]
    }
   ],
   "source": [
    "grades = [35,67,98,100,100]\n",
    "total = 0\n",
    "n = len(grades)\n",
    "\n",
    "for grade in grades:\n",
    "    total += grade\n",
    "\n",
    "print(f\"Average is {total/n}\")"
   ]
  },
  {
   "cell_type": "code",
   "execution_count": 5,
   "metadata": {},
   "outputs": [
    {
     "name": "stdout",
     "output_type": "stream",
     "text": [
      "[0, 1, 2, 3, 4, 5, 6, 7, 8, 9]\n"
     ]
    }
   ],
   "source": [
    "print(list(range(10)))"
   ]
  },
  {
   "cell_type": "code",
   "execution_count": 6,
   "metadata": {},
   "outputs": [
    {
     "name": "stdout",
     "output_type": "stream",
     "text": [
      "Average is 80.0\n"
     ]
    }
   ],
   "source": [
    "grades = [35,67,98,100,100]\n",
    "total = sum(grades)\n",
    "n = len(grades)\n",
    "print(f\"Average is {total/n}\") "
   ]
  }
 ],
 "metadata": {
  "kernelspec": {
   "display_name": "Python 3.9.12 ('base')",
   "language": "python",
   "name": "python3"
  },
  "language_info": {
   "codemirror_mode": {
    "name": "ipython",
    "version": 3
   },
   "file_extension": ".py",
   "mimetype": "text/x-python",
   "name": "python",
   "nbconvert_exporter": "python",
   "pygments_lexer": "ipython3",
   "version": "3.9.12"
  },
  "orig_nbformat": 4,
  "vscode": {
   "interpreter": {
    "hash": "41f7ba8645af086de5a2c668809fdb57629028366d5687fb2c6a0345f663f190"
   }
  }
 },
 "nbformat": 4,
 "nbformat_minor": 2
}
