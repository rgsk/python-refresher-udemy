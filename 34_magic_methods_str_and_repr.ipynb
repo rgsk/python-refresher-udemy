{
 "cells": [
  {
   "cell_type": "code",
   "execution_count": 2,
   "metadata": {},
   "outputs": [
    {
     "name": "stdout",
     "output_type": "stream",
     "text": [
      "<__main__.Person object at 0x7fd3f95aafa0>\n"
     ]
    }
   ],
   "source": [
    "class Person:\n",
    "    def __init__(self, name, age) :\n",
    "        self.name = name\n",
    "        self.age = age\n",
    "  \n",
    "\n",
    "bob = Person(\"Bob\", 35)\n",
    " \n",
    "print(bob)\n",
    " "
   ]
  },
  {
   "cell_type": "code",
   "execution_count": 3,
   "metadata": {},
   "outputs": [
    {
     "name": "stdout",
     "output_type": "stream",
     "text": [
      "[name: Bob, age: 35]\n"
     ]
    }
   ],
   "source": [
    "class Person:\n",
    "    def __init__(self, name, age) :\n",
    "        self.name = name\n",
    "        self.age = age\n",
    "    def __str__(self) -> str:\n",
    "        return f\"[name: {self.name}, age: {self.age}]\"\n",
    "\n",
    "bob = Person(\"Bob\", 35)\n",
    "\n",
    "print(bob) "
   ]
  },
  {
   "cell_type": "code",
   "execution_count": 5,
   "metadata": {},
   "outputs": [
    {
     "name": "stdout",
     "output_type": "stream",
     "text": [
      "Person Bob, 35 years old.\n",
      "Person Bob, 35 years old.\n",
      "Person Bob, 35 years old.\n",
      "<Person(Bob, 35)>\n"
     ]
    }
   ],
   "source": [
    "class Person:\n",
    "    def __init__(self, name, age) :\n",
    "        self.name = name\n",
    "        self.age = age\n",
    "\n",
    "    def __str__(self) -> str:\n",
    "        return f\"Person {self.name}, {self.age} years old.\"\n",
    "    # repr method is used by python debugger\n",
    "    # the goal of repr method is provide enough information\n",
    "    # so that instance can be recreated by looking at the properties\n",
    "    def __repr__(self) -> str:\n",
    "        return f\"<Person({self.name}, {self.age})>\"\n",
    "\n",
    "bob = Person(\"Bob\", 35)\n",
    "\n",
    "print(bob) \n",
    "print(bob.__str__())\n",
    "string_representation_of_bob = str(bob)\n",
    "print(string_representation_of_bob)\n",
    "print(bob.__repr__())"
   ]
  }
 ],
 "metadata": {
  "kernelspec": {
   "display_name": "Python 3.9.12 ('base')",
   "language": "python",
   "name": "python3"
  },
  "language_info": {
   "codemirror_mode": {
    "name": "ipython",
    "version": 3
   },
   "file_extension": ".py",
   "mimetype": "text/x-python",
   "name": "python",
   "nbconvert_exporter": "python",
   "pygments_lexer": "ipython3",
   "version": "3.9.12"
  },
  "orig_nbformat": 4,
  "vscode": {
   "interpreter": {
    "hash": "41f7ba8645af086de5a2c668809fdb57629028366d5687fb2c6a0345f663f190"
   }
  }
 },
 "nbformat": 4,
 "nbformat_minor": 2
}
