{
 "cells": [
  {
   "cell_type": "markdown",
   "metadata": {},
   "source": [
    "inheritance means book is a bookshelf\n",
    "\n",
    "composition means that a bookshelf has many books"
   ]
  },
  {
   "cell_type": "code",
   "execution_count": 14,
   "metadata": {},
   "outputs": [],
   "source": [
    "class BookShelf:\n",
    "    def __init__(self, *books) -> None:\n",
    "        self.books = books\n",
    "\n",
    "    def __str__(self) -> str:\n",
    "        return f\"BookSelf with {len(self.books)} books.\""
   ]
  },
  {
   "cell_type": "code",
   "execution_count": 15,
   "metadata": {},
   "outputs": [],
   "source": [
    "class Book:\n",
    "    def __init__(self, name) -> None:\n",
    "        self.name = name\n",
    "    \n",
    "    def __str__(self) -> str:\n",
    "        return f\"Book {self.name}\""
   ]
  },
  {
   "cell_type": "code",
   "execution_count": 16,
   "metadata": {},
   "outputs": [
    {
     "name": "stdout",
     "output_type": "stream",
     "text": [
      "Book Harry Potter\n"
     ]
    }
   ],
   "source": [
    "harry_potter_book = Book(\"Harry Potter\")\n",
    "cricket_book = Book('Cricket')\n",
    "print(harry_potter_book)"
   ]
  },
  {
   "cell_type": "code",
   "execution_count": 17,
   "metadata": {},
   "outputs": [
    {
     "name": "stdout",
     "output_type": "stream",
     "text": [
      "BookSelf with 2 books.\n",
      "Book Cricket\n"
     ]
    }
   ],
   "source": [
    "shelf = BookShelf(harry_potter_book, cricket_book)\n",
    "print(shelf)\n",
    "print(shelf.books[1])"
   ]
  }
 ],
 "metadata": {
  "kernelspec": {
   "display_name": "Python 3.9.12 ('base')",
   "language": "python",
   "name": "python3"
  },
  "language_info": {
   "codemirror_mode": {
    "name": "ipython",
    "version": 3
   },
   "file_extension": ".py",
   "mimetype": "text/x-python",
   "name": "python",
   "nbconvert_exporter": "python",
   "pygments_lexer": "ipython3",
   "version": "3.9.12"
  },
  "orig_nbformat": 4,
  "vscode": {
   "interpreter": {
    "hash": "41f7ba8645af086de5a2c668809fdb57629028366d5687fb2c6a0345f663f190"
   }
  }
 },
 "nbformat": 4,
 "nbformat_minor": 2
}
