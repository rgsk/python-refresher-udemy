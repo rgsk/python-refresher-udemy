{
 "cells": [
  {
   "cell_type": "code",
   "execution_count": 17,
   "metadata": {},
   "outputs": [
    {
     "name": "stdout",
     "output_type": "stream",
     "text": [
      "Hello!\n"
     ]
    }
   ],
   "source": [
    "def hello():\n",
    "    print(\"Hello!\")\n",
    "hello()"
   ]
  },
  {
   "cell_type": "code",
   "execution_count": 18,
   "metadata": {},
   "outputs": [
    {
     "name": "stdout",
     "output_type": "stream",
     "text": [
      "Your age in seconds is 693792000.\n"
     ]
    }
   ],
   "source": [
    "def user_age_in_seconds():\n",
    "    user_age = int(input(\"Enter your age: \"))\n",
    "    age_seconds = user_age * 365 * 24 * 60 * 60\n",
    "    print(f\"Your age in seconds is {age_seconds}.\")\n",
    "\n",
    "user_age_in_seconds()"
   ]
  },
  {
   "cell_type": "markdown",
   "metadata": {},
   "source": [
    "don't define variables or functions with python builtin keywords or functions"
   ]
  },
  {
   "cell_type": "code",
   "execution_count": 19,
   "metadata": {},
   "outputs": [
    {
     "data": {
      "text/plain": [
       "'TypeError: print() takes 0 positional arguments but 1 was given'"
      ]
     },
     "execution_count": 19,
     "metadata": {},
     "output_type": "execute_result"
    }
   ],
   "source": [
    "\"\"\"\n",
    "def print():\n",
    "    print(\"Hello\")\n",
    "print()\n",
    "\"\"\"\n",
    "'''TypeError: print() takes 0 positional arguments but 1 was given'''"
   ]
  },
  {
   "cell_type": "markdown",
   "metadata": {},
   "source": [
    "don't perform variable shadowing"
   ]
  },
  {
   "cell_type": "code",
   "execution_count": 20,
   "metadata": {},
   "outputs": [
    {
     "data": {
      "text/plain": [
       "\"UnboundLocalError: local variable 'friends' referenced before assignment\""
      ]
     },
     "execution_count": 20,
     "metadata": {},
     "output_type": "execute_result"
    }
   ],
   "source": [
    "'''\n",
    "friends = [\"Rolf\", \"Bob\"]\n",
    "def add_friend():\n",
    "    friend_name = input(\"Enter your friend name: \")\n",
    "    friends = friends + [friend_name]\n",
    "    # in above line friends on right side looks for variable friends in function scope\n",
    "    # friends variable is defined but not assigned a value yet, so we can't reference it\n",
    "\n",
    "add_friend()\n",
    "'''\n",
    "'''UnboundLocalError: local variable 'friends' referenced before assignment'''"
   ]
  },
  {
   "cell_type": "code",
   "execution_count": 21,
   "metadata": {},
   "outputs": [
    {
     "name": "stdout",
     "output_type": "stream",
     "text": [
      "['Rolf', 'Bob', 'Rahul']\n",
      "['Rolf', 'Bob']\n"
     ]
    }
   ],
   "source": [
    "friends = [\"Rolf\", \"Bob\"]\n",
    "def add_friend():\n",
    "    friend_name = input(\"Enter your friend name: \")\n",
    "    f = friends + [friend_name]\n",
    "    print(f)\n",
    "\n",
    "add_friend()\n",
    "print(friends)"
   ]
  },
  {
   "cell_type": "markdown",
   "metadata": {},
   "source": [
    "function must be defined before its ran"
   ]
  },
  {
   "cell_type": "code",
   "execution_count": 22,
   "metadata": {},
   "outputs": [
    {
     "data": {
      "text/plain": [
       "\"NameError: name 'say_hello' is not defined\""
      ]
     },
     "execution_count": 22,
     "metadata": {},
     "output_type": "execute_result"
    }
   ],
   "source": [
    "'''\n",
    "say_hello()\n",
    "\n",
    "def say_hello():\n",
    "    print(\"hello\")\n",
    "'''\n",
    "\n",
    "'''NameError: name 'say_hello' is not defined'''"
   ]
  },
  {
   "cell_type": "markdown",
   "metadata": {},
   "source": [
    "it does not matter if variable is defined after definition of function\n",
    "what matters is variable is defined before calling the function"
   ]
  },
  {
   "cell_type": "code",
   "execution_count": 23,
   "metadata": {},
   "outputs": [
    {
     "name": "stdout",
     "output_type": "stream",
     "text": [
      "['Mehak', 'Rolf']\n"
     ]
    }
   ],
   "source": [
    "def add_friend():\n",
    "    names.append(\"Rolf\")\n",
    "# add_friend() # NameError: name 'names' is not defined\n",
    "names = [\"Mehak\"]\n",
    "add_friend()\n",
    "print(names) "
   ]
  }
 ],
 "metadata": {
  "kernelspec": {
   "display_name": "Python 3.9.12 ('base')",
   "language": "python",
   "name": "python3"
  },
  "language_info": {
   "codemirror_mode": {
    "name": "ipython",
    "version": 3
   },
   "file_extension": ".py",
   "mimetype": "text/x-python",
   "name": "python",
   "nbconvert_exporter": "python",
   "pygments_lexer": "ipython3",
   "version": "3.9.12"
  },
  "orig_nbformat": 4,
  "vscode": {
   "interpreter": {
    "hash": "41f7ba8645af086de5a2c668809fdb57629028366d5687fb2c6a0345f663f190"
   }
  }
 },
 "nbformat": 4,
 "nbformat_minor": 2
}
