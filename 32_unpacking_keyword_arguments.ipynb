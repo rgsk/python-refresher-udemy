{
 "cells": [
  {
   "cell_type": "markdown",
   "metadata": {},
   "source": [
    "two stars\n",
    "**\n",
    "The can be used in a function to collect named arguments into a dictionary, or\n",
    "they can be used in a function call to unpack a dictionary into keyword arguments."
   ]
  },
  {
   "cell_type": "code",
   "execution_count": 6,
   "metadata": {},
   "outputs": [
    {
     "name": "stdout",
     "output_type": "stream",
     "text": [
      "{'name': 'Rahul Gupta', 'age': 23}\n",
      "{'x': 1, 'y': 4, 'z': 9}\n"
     ]
    }
   ],
   "source": [
    "def named(**kwargs):\n",
    "    print(kwargs)\n",
    "\n",
    "named(**{\n",
    "    'name': 'Rahul Gupta', \n",
    "    'age': 23\n",
    "})\n",
    " \n",
    "named(x=1,y=4,z=9) "
   ]
  },
  {
   "cell_type": "code",
   "execution_count": 7,
   "metadata": {},
   "outputs": [
    {
     "name": "stdout",
     "output_type": "stream",
     "text": [
      "(1, 2, 3)\n",
      "{'x': 9, 'y': 10}\n"
     ]
    }
   ],
   "source": [
    "def mix(*args, **kwargs):\n",
    "    print(args)\n",
    "    print(kwargs)\n",
    " \n",
    "mix(1, 2, 3, x=9,y=10)"
   ]
  },
  {
   "cell_type": "code",
   "execution_count": 10,
   "metadata": {},
   "outputs": [],
   "source": [
    "# unpacking only works for dictionary\n",
    "\n",
    "def myfunction(**kwargs):\n",
    "    print(kwargs)\n",
    "\n",
    "# myfunction(**'bob') # TypeError: __main__.myfunction() argument after ** must be a mapping, not str\n",
    "# myfunction(**None) # TypeError: __main__.myfunction() argument after ** must be a mapping, not NoneType"
   ]
  }
 ],
 "metadata": {
  "kernelspec": {
   "display_name": "Python 3.9.12 ('base')",
   "language": "python",
   "name": "python3"
  },
  "language_info": {
   "codemirror_mode": {
    "name": "ipython",
    "version": 3
   },
   "file_extension": ".py",
   "mimetype": "text/x-python",
   "name": "python",
   "nbconvert_exporter": "python",
   "pygments_lexer": "ipython3",
   "version": "3.9.12"
  },
  "orig_nbformat": 4,
  "vscode": {
   "interpreter": {
    "hash": "41f7ba8645af086de5a2c668809fdb57629028366d5687fb2c6a0345f663f190"
   }
  }
 },
 "nbformat": 4,
 "nbformat_minor": 2
}
