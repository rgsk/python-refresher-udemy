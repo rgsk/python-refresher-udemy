{
 "cells": [
  {
   "cell_type": "code",
   "execution_count": 2,
   "metadata": {},
   "outputs": [
    {
     "name": "stdout",
     "output_type": "stream",
     "text": [
      "{'Bob': (0, 'Bob', 'password'), 'Rolf': (1, 'Rolf', 'bob123'), 'Jose': (2, 'Jose', 'longpassword'), 'username': (3, 'username', '1234')}\n",
      "(2, 'Jose', 'longpassword')\n"
     ]
    }
   ],
   "source": [
    "users = [\n",
    "    (0, 'Bob', 'password'),\n",
    "    (1, 'Rolf', 'bob123'),\n",
    "    (2, 'Jose', 'longpassword'),\n",
    "    (3, 'username', '1234')\n",
    "]      \n",
    "\n",
    "username_mapping = {\n",
    "    user[1]: user for user in users\n",
    "} \n",
    "\n",
    "print(username_mapping)\n",
    "print(username_mapping['Jose'])"
   ]
  }
 ],
 "metadata": {
  "kernelspec": {
   "display_name": "Python 3.9.12 ('base')",
   "language": "python",
   "name": "python3"
  },
  "language_info": {
   "codemirror_mode": {
    "name": "ipython",
    "version": 3
   },
   "file_extension": ".py",
   "mimetype": "text/x-python",
   "name": "python",
   "nbconvert_exporter": "python",
   "pygments_lexer": "ipython3",
   "version": "3.9.12"
  },
  "orig_nbformat": 4,
  "vscode": {
   "interpreter": {
    "hash": "41f7ba8645af086de5a2c668809fdb57629028366d5687fb2c6a0345f663f190"
   }
  }
 },
 "nbformat": 4,
 "nbformat_minor": 2
}
