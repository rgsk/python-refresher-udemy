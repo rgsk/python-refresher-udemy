{
 "cells": [
  {
   "cell_type": "code",
   "execution_count": 29,
   "metadata": {},
   "outputs": [
    {
     "name": "stdout",
     "output_type": "stream",
     "text": [
      "140305599979968\n",
      "140305599979968\n"
     ]
    }
   ],
   "source": [
    "a = []\n",
    "b = a\n",
    "\n",
    "print(id(a))\n",
    "print(id(b))"
   ]
  },
  {
   "cell_type": "code",
   "execution_count": 30,
   "metadata": {},
   "outputs": [
    {
     "name": "stdout",
     "output_type": "stream",
     "text": [
      "[35]\n",
      "[35]\n"
     ]
    }
   ],
   "source": [
    "a.append(35)\n",
    "print(a)\n",
    "print(b)"
   ]
  },
  {
   "cell_type": "code",
   "execution_count": 31,
   "metadata": {},
   "outputs": [
    {
     "name": "stdout",
     "output_type": "stream",
     "text": [
      "140306390348992\n",
      "140306381825152\n",
      "[1, 2, 3]\n",
      "[1, 2, 3]\n",
      "[1, 2, 3, 12]\n",
      "[1, 2, 3]\n"
     ]
    }
   ],
   "source": [
    "a = [1, 2, 3]\n",
    "b = [v for v in a]\n",
    "print(id(a))\n",
    "print(id(b))\n",
    "print(a)\n",
    "print(b)\n",
    "a.append(12)\n",
    "print(a)\n",
    "print(b)"
   ]
  },
  {
   "cell_type": "code",
   "execution_count": 32,
   "metadata": {},
   "outputs": [
    {
     "name": "stdout",
     "output_type": "stream",
     "text": [
      "(12, 13, 14)\n"
     ]
    }
   ],
   "source": [
    "# tuples are immutable\n",
    "a = ()\n",
    "a = a + (12,) # a new tuple is created\n",
    "a = a + (13,)\n",
    "a += (14,)\n",
    "print(a)"
   ]
  },
  {
   "cell_type": "markdown",
   "metadata": {},
   "source": [
    "As an optimization, Python pre-creates a range of int objects (I think it's -5...256 by default, this is a compile-time option), and always uses those objects in preference to creating a new int. For ints outside that range, the chance of ever needing the exact same int again is considered too low to be worth the effort of checking to see if the needed int object already exists.\n",
    "\n",
    "This is PURELY an implementation detail. If your code ever actually cares about it, you are doing something horribly wrong."
   ]
  },
  {
   "cell_type": "markdown",
   "metadata": {},
   "source": [
    "we ran below code in .py file and same id was used for both variables"
   ]
  },
  {
   "cell_type": "code",
   "execution_count": 33,
   "metadata": {},
   "outputs": [
    {
     "name": "stdout",
     "output_type": "stream",
     "text": [
      "140306390333200\n",
      "140306390333328\n"
     ]
    }
   ],
   "source": [
    "e = 8597\n",
    "f = 8597\n",
    "print(id(e))\n",
    "print(id(f)) "
   ]
  }
 ],
 "metadata": {
  "kernelspec": {
   "display_name": "Python 3.9.12 ('base')",
   "language": "python",
   "name": "python3"
  },
  "language_info": {
   "codemirror_mode": {
    "name": "ipython",
    "version": 3
   },
   "file_extension": ".py",
   "mimetype": "text/x-python",
   "name": "python",
   "nbconvert_exporter": "python",
   "pygments_lexer": "ipython3",
   "version": "3.9.12"
  },
  "orig_nbformat": 4,
  "vscode": {
   "interpreter": {
    "hash": "41f7ba8645af086de5a2c668809fdb57629028366d5687fb2c6a0345f663f190"
   }
  }
 },
 "nbformat": 4,
 "nbformat_minor": 2
}
