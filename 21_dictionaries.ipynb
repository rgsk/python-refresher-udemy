{
 "cells": [
  {
   "cell_type": "code",
   "execution_count": 1,
   "metadata": {},
   "outputs": [
    {
     "name": "stdout",
     "output_type": "stream",
     "text": [
      "20\n"
     ]
    }
   ],
   "source": [
    "friend_ages = {\n",
    "    \"Rolf\": 24,\n",
    "    \"Adam\": 20,\n",
    "    \"Anne\": 27\n",
    "}\n",
    "\n",
    "print(friend_ages['Adam'])"
   ]
  },
  {
   "cell_type": "code",
   "execution_count": 2,
   "metadata": {},
   "outputs": [
    {
     "name": "stdout",
     "output_type": "stream",
     "text": [
      "{'Rolf': 24, 'Adam': 20, 'Anne': 27, 'Bob': 21}\n"
     ]
    }
   ],
   "source": [
    "friend_ages[\"Bob\"] = 21 # add a key value pair\n",
    "print(friend_ages)"
   ]
  },
  {
   "cell_type": "code",
   "execution_count": 3,
   "metadata": {},
   "outputs": [
    {
     "name": "stdout",
     "output_type": "stream",
     "text": [
      "{'Rolf': 22, 'Adam': 20, 'Anne': 27, 'Bob': 21}\n"
     ]
    }
   ],
   "source": [
    "friend_ages[\"Rolf\"] = 22 # change value\n",
    "print(friend_ages)"
   ]
  },
  {
   "cell_type": "code",
   "execution_count": 4,
   "metadata": {},
   "outputs": [
    {
     "name": "stdout",
     "output_type": "stream",
     "text": [
      "Rolf\n"
     ]
    }
   ],
   "source": [
    "friends = [\n",
    "    {\"name\": \"Rolf\", \"age\": 24},\n",
    "    {\"name\": \"Adam\", \"age\": 30},\n",
    "    {\"name\": \"Anne\", \"age\": 27}\n",
    "]\n",
    "print(friends[0]['name'])"
   ]
  },
  {
   "cell_type": "code",
   "execution_count": 6,
   "metadata": {},
   "outputs": [
    {
     "name": "stdout",
     "output_type": "stream",
     "text": [
      "Rolf age is 24\n",
      "Adam age is 20\n",
      "Anne age is 27\n"
     ]
    }
   ],
   "source": [
    "friend_ages = {\n",
    "    \"Rolf\": 24,\n",
    "    \"Adam\": 20,\n",
    "    \"Anne\": 27\n",
    "}\n",
    "for friend in friend_ages:\n",
    "    print(f\"{friend} age is {friend_ages[friend]}\")"
   ]
  },
  {
   "cell_type": "code",
   "execution_count": 7,
   "metadata": {},
   "outputs": [
    {
     "name": "stdout",
     "output_type": "stream",
     "text": [
      "Rolf age is 24\n",
      "Adam age is 20\n",
      "Anne age is 27\n"
     ]
    }
   ],
   "source": [
    "for friend, age in friend_ages.items():\n",
    "    print(f\"{friend} age is {age}\")"
   ]
  },
  {
   "cell_type": "code",
   "execution_count": 8,
   "metadata": {},
   "outputs": [
    {
     "name": "stdout",
     "output_type": "stream",
     "text": [
      "Rolf is your friend\n"
     ]
    }
   ],
   "source": [
    "if \"Rolf\" in friend_ages:\n",
    "    print(\"Rolf is your friend\")"
   ]
  },
  {
   "cell_type": "code",
   "execution_count": 9,
   "metadata": {},
   "outputs": [
    {
     "name": "stdout",
     "output_type": "stream",
     "text": [
      "71\n"
     ]
    }
   ],
   "source": [
    "values = friend_ages.values()\n",
    "print(sum(values))"
   ]
  }
 ],
 "metadata": {
  "kernelspec": {
   "display_name": "Python 3.9.12 ('base')",
   "language": "python",
   "name": "python3"
  },
  "language_info": {
   "codemirror_mode": {
    "name": "ipython",
    "version": 3
   },
   "file_extension": ".py",
   "mimetype": "text/x-python",
   "name": "python",
   "nbconvert_exporter": "python",
   "pygments_lexer": "ipython3",
   "version": "3.9.12"
  },
  "orig_nbformat": 4,
  "vscode": {
   "interpreter": {
    "hash": "41f7ba8645af086de5a2c668809fdb57629028366d5687fb2c6a0345f663f190"
   }
  }
 },
 "nbformat": 4,
 "nbformat_minor": 2
}
