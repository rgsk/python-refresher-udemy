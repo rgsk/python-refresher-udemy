{
 "cells": [
  {
   "cell_type": "code",
   "execution_count": 11,
   "metadata": {},
   "outputs": [
    {
     "name": "stdout",
     "output_type": "stream",
     "text": [
      "[89, 90, 93, 78, 90, 100]\n"
     ]
    }
   ],
   "source": [
    "from typing import List\n",
    "\n",
    "\n",
    "class Student():\n",
    "    def __init__(self, name: str, grades: List[int] = []): # This is bad!\n",
    "        self.name = name\n",
    "        self.grades = grades\n",
    "\n",
    "    def average_grade(self):\n",
    "        return sum(self.grades) / len(self.grades)\n",
    "\n",
    "    def take_exam(self, result: int):\n",
    "        self.grades.append(result)\n",
    "\n",
    "rahul = Student('Rahul', [89, 90, 93, 78, 90])\n",
    "rahul.take_exam(100)\n",
    "print(rahul.grades)"
   ]
  },
  {
   "cell_type": "code",
   "execution_count": 12,
   "metadata": {},
   "outputs": [
    {
     "name": "stdout",
     "output_type": "stream",
     "text": [
      "[100]\n",
      "[100]\n"
     ]
    }
   ],
   "source": [
    "mehak = Student('Mehak')\n",
    "mehak.take_exam(100)\n",
    "print(mehak.grades)\n",
    "rolf = Student('Rolf')\n",
    "print(rolf.grades)"
   ]
  },
  {
   "cell_type": "markdown",
   "metadata": {},
   "source": [
    "as long as we are using the default parameter for list, those students will share the grades"
   ]
  },
  {
   "cell_type": "code",
   "execution_count": 15,
   "metadata": {},
   "outputs": [
    {
     "name": "stdout",
     "output_type": "stream",
     "text": [
      "[100]\n",
      "[]\n"
     ]
    }
   ],
   "source": [
    "from typing import Optional\n",
    "\n",
    "\n",
    "class Student():\n",
    "    def __init__(self, name: str, grades: Optional[List[int]] = None): # This is bad!\n",
    "        self.name = name\n",
    "        self.grades = grades or []\n",
    "\n",
    "    def average_grade(self):\n",
    "        return sum(self.grades) / len(self.grades)\n",
    "\n",
    "    def take_exam(self, result: int):\n",
    "        self.grades.append(result)\n",
    "\n",
    "mehak = Student('Mehak')\n",
    "mehak.take_exam(100)\n",
    "print(mehak.grades)\n",
    "rolf = Student('Rolf')\n",
    "print(rolf.grades)"
   ]
  }
 ],
 "metadata": {
  "kernelspec": {
   "display_name": "Python 3.9.12 ('base')",
   "language": "python",
   "name": "python3"
  },
  "language_info": {
   "codemirror_mode": {
    "name": "ipython",
    "version": 3
   },
   "file_extension": ".py",
   "mimetype": "text/x-python",
   "name": "python",
   "nbconvert_exporter": "python",
   "pygments_lexer": "ipython3",
   "version": "3.9.12"
  },
  "orig_nbformat": 4,
  "vscode": {
   "interpreter": {
    "hash": "41f7ba8645af086de5a2c668809fdb57629028366d5687fb2c6a0345f663f190"
   }
  }
 },
 "nbformat": 4,
 "nbformat_minor": 2
}
