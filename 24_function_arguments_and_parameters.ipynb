{
 "cells": [
  {
   "cell_type": "code",
   "execution_count": 5,
   "metadata": {},
   "outputs": [
    {
     "name": "stdout",
     "output_type": "stream",
     "text": [
      "8\n"
     ]
    }
   ],
   "source": [
    "def add(x, y):\n",
    "    return x + y\n",
    "\n",
    "print(add(5, 3))"
   ]
  },
  {
   "cell_type": "code",
   "execution_count": 6,
   "metadata": {},
   "outputs": [
    {
     "name": "stdout",
     "output_type": "stream",
     "text": [
      "hello Bob\n"
     ]
    }
   ],
   "source": [
    "def say_hello(name):\n",
    "    print(f\"hello {name}\")\n",
    "\n",
    "say_hello(\"Bob\")"
   ]
  },
  {
   "cell_type": "code",
   "execution_count": 7,
   "metadata": {},
   "outputs": [
    {
     "name": "stdout",
     "output_type": "stream",
     "text": [
      "hello Rahul Gupta\n"
     ]
    }
   ],
   "source": [
    "def say_hello(name, surname):\n",
    "    print(f'hello {name} {surname}')\n",
    "\n",
    "say_hello(surname='Gupta',name='Rahul')"
   ]
  },
  {
   "cell_type": "code",
   "execution_count": 18,
   "metadata": {},
   "outputs": [
    {
     "name": "stdout",
     "output_type": "stream",
     "text": [
      "4.0\n",
      "4.0\n"
     ]
    }
   ],
   "source": [
    "def divide(dividend, divisor):\n",
    "    if divisor != 0:\n",
    "        print(dividend/divisor)\n",
    "    else:\n",
    "        print('You fool!')\n",
    "\n",
    "divide(8,2)\n",
    "divide(divisor=2,dividend=8)"
   ]
  }
 ],
 "metadata": {
  "kernelspec": {
   "display_name": "Python 3.9.12 ('base')",
   "language": "python",
   "name": "python3"
  },
  "language_info": {
   "codemirror_mode": {
    "name": "ipython",
    "version": 3
   },
   "file_extension": ".py",
   "mimetype": "text/x-python",
   "name": "python",
   "nbconvert_exporter": "python",
   "pygments_lexer": "ipython3",
   "version": "3.9.12"
  },
  "orig_nbformat": 4,
  "vscode": {
   "interpreter": {
    "hash": "41f7ba8645af086de5a2c668809fdb57629028366d5687fb2c6a0345f663f190"
   }
  }
 },
 "nbformat": 4,
 "nbformat_minor": 2
}
