{
 "cells": [
  {
   "cell_type": "code",
   "execution_count": 22,
   "metadata": {},
   "outputs": [
    {
     "name": "stdout",
     "output_type": "stream",
     "text": [
      "Hello!\n"
     ]
    }
   ],
   "source": [
    "def hello():\n",
    "    print(\"Hello!\")\n",
    "hello()"
   ]
  },
  {
   "cell_type": "code",
   "execution_count": 23,
   "metadata": {},
   "outputs": [
    {
     "name": "stdout",
     "output_type": "stream",
     "text": [
      "Your age in seconds is 693792000.\n"
     ]
    }
   ],
   "source": [
    "def user_age_in_seconds():\n",
    "    user_age = int(input(\"Enter your age: \"))\n",
    "    age_seconds = user_age * 365 * 24 * 60 * 60\n",
    "    print(f\"Your age in seconds is {age_seconds}.\")\n",
    "\n",
    "user_age_in_seconds()"
   ]
  },
  {
   "cell_type": "markdown",
   "metadata": {},
   "source": [
    "don't define variables or functions with python builtin keywords or functions"
   ]
  },
  {
   "cell_type": "code",
   "execution_count": 24,
   "metadata": {},
   "outputs": [
    {
     "data": {
      "text/plain": [
       "'\\n---------------------------------------------------------------------------\\nTypeError                                 Traceback (most recent call last)\\n/Users/rahulgupta/Desktop/practice/python-refresher-udemy/23_functions.ipynb Cell 4 in <cell line: 3>()\\n      1 def print():\\n      2     print(\"Hello\")\\n----> 3 print()\\n\\n/Users/rahulgupta/Desktop/practice/python-refresher-udemy/23_functions.ipynb Cell 4 in print()\\n      1 def print():\\n----> 2     print(\"Hello\")\\n\\nTypeError: print() takes 0 positional arguments but 1 was given\\n'"
      ]
     },
     "execution_count": 24,
     "metadata": {},
     "output_type": "execute_result"
    }
   ],
   "source": [
    "\"\"\"\n",
    "def print():\n",
    "    print(\"Hello\")\n",
    "print()\n",
    "\"\"\"\n",
    "'''\n",
    "---------------------------------------------------------------------------\n",
    "TypeError                                 Traceback (most recent call last)\n",
    "/Users/rahulgupta/Desktop/practice/python-refresher-udemy/23_functions.ipynb Cell 4 in <cell line: 3>()\n",
    "      1 def print():\n",
    "      2     print(\"Hello\")\n",
    "----> 3 print()\n",
    "\n",
    "/Users/rahulgupta/Desktop/practice/python-refresher-udemy/23_functions.ipynb Cell 4 in print()\n",
    "      1 def print():\n",
    "----> 2     print(\"Hello\")\n",
    "\n",
    "TypeError: print() takes 0 positional arguments but 1 was given\n",
    "'''"
   ]
  },
  {
   "cell_type": "markdown",
   "metadata": {},
   "source": [
    "don't perform variable shadowing"
   ]
  },
  {
   "cell_type": "code",
   "execution_count": 25,
   "metadata": {},
   "outputs": [
    {
     "data": {
      "text/plain": [
       "'\\n---------------------------------------------------------------------------\\nUnboundLocalError                         Traceback (most recent call last)\\n/Users/rahulgupta/Desktop/practice/python-refresher-udemy/23_functions.ipynb Cell 6 in <cell line: 8>()\\n      4     friends = friends + [friend_name]\\n      5     # in above line friends on right side looks for variable friends in function scope\\n      6     # friends variable is defined but not assigned a value yet, so we can\\'t reference it\\n----> 8 add_friend()\\n\\n/Users/rahulgupta/Desktop/practice/python-refresher-udemy/23_functions.ipynb Cell 6 in add_friend()\\n      2 def add_friend():\\n      3     friend_name = input(\"Enter your friend name: \")\\n----> 4     friends = friends + [friend_name]\\n\\nUnboundLocalError: local variable \\'friends\\' referenced before assignment\\n'"
      ]
     },
     "execution_count": 25,
     "metadata": {},
     "output_type": "execute_result"
    }
   ],
   "source": [
    "'''\n",
    "friends = [\"Rolf\", \"Bob\"]\n",
    "def add_friend():\n",
    "    friend_name = input(\"Enter your friend name: \")\n",
    "    friends = friends + [friend_name]\n",
    "    # in above line friends on right side looks for variable friends in function scope\n",
    "    # friends variable is defined but not assigned a value yet, so we can't reference it\n",
    "\n",
    "add_friend()\n",
    "'''\n",
    "'''\n",
    "---------------------------------------------------------------------------\n",
    "UnboundLocalError                         Traceback (most recent call last)\n",
    "/Users/rahulgupta/Desktop/practice/python-refresher-udemy/23_functions.ipynb Cell 6 in <cell line: 8>()\n",
    "      4     friends = friends + [friend_name]\n",
    "      5     # in above line friends on right side looks for variable friends in function scope\n",
    "      6     # friends variable is defined but not assigned a value yet, so we can't reference it\n",
    "----> 8 add_friend()\n",
    "\n",
    "/Users/rahulgupta/Desktop/practice/python-refresher-udemy/23_functions.ipynb Cell 6 in add_friend()\n",
    "      2 def add_friend():\n",
    "      3     friend_name = input(\"Enter your friend name: \")\n",
    "----> 4     friends = friends + [friend_name]\n",
    "\n",
    "UnboundLocalError: local variable 'friends' referenced before assignment\n",
    "'''"
   ]
  },
  {
   "cell_type": "code",
   "execution_count": 26,
   "metadata": {},
   "outputs": [
    {
     "name": "stdout",
     "output_type": "stream",
     "text": [
      "['Rolf', 'Bob', 'Rahul']\n",
      "['Rolf', 'Bob']\n"
     ]
    }
   ],
   "source": [
    "friends = [\"Rolf\", \"Bob\"]\n",
    "def add_friend():\n",
    "    friend_name = input(\"Enter your friend name: \")\n",
    "    f = friends + [friend_name]\n",
    "    print(f)\n",
    "\n",
    "add_friend()\n",
    "print(friends)"
   ]
  },
  {
   "cell_type": "markdown",
   "metadata": {},
   "source": [
    "function must be defined before its ran"
   ]
  },
  {
   "cell_type": "code",
   "execution_count": 27,
   "metadata": {},
   "outputs": [
    {
     "data": {
      "text/plain": [
       "'\\n---------------------------------------------------------------------------\\nNameError                                 Traceback (most recent call last)\\n/Users/rahulgupta/Desktop/practice/python-refresher-udemy/23_functions.ipynb Cell 9 in <cell line: 1>()\\n----> 1 say_hello()\\n      3 def say_hello():\\n      4     print(\"hello\")\\n\\nNameError: name \\'say_hello\\' is not defined\\n'"
      ]
     },
     "execution_count": 27,
     "metadata": {},
     "output_type": "execute_result"
    }
   ],
   "source": [
    "'''\n",
    "say_hello()\n",
    "\n",
    "def say_hello():\n",
    "    print(\"hello\")\n",
    "'''\n",
    "\n",
    "'''\n",
    "---------------------------------------------------------------------------\n",
    "NameError                                 Traceback (most recent call last)\n",
    "/Users/rahulgupta/Desktop/practice/python-refresher-udemy/23_functions.ipynb Cell 9 in <cell line: 1>()\n",
    "----> 1 say_hello()\n",
    "      3 def say_hello():\n",
    "      4     print(\"hello\")\n",
    "\n",
    "NameError: name 'say_hello' is not defined\n",
    "'''"
   ]
  },
  {
   "cell_type": "markdown",
   "metadata": {},
   "source": [
    "it does not matter if variable is defined after definition of function\n",
    "what matters is variable is defined before calling the function"
   ]
  },
  {
   "cell_type": "code",
   "execution_count": 2,
   "metadata": {},
   "outputs": [
    {
     "name": "stdout",
     "output_type": "stream",
     "text": [
      "['Mehak', 'Rolf']\n"
     ]
    }
   ],
   "source": [
    "def add_friend():\n",
    "    names.append(\"Rolf\")\n",
    "# add_friend() # NameError: name 'names' is not defined\n",
    "names = [\"Mehak\"]\n",
    "add_friend()\n",
    "print(names) "
   ]
  }
 ],
 "metadata": {
  "kernelspec": {
   "display_name": "Python 3.9.12 ('base')",
   "language": "python",
   "name": "python3"
  },
  "language_info": {
   "codemirror_mode": {
    "name": "ipython",
    "version": 3
   },
   "file_extension": ".py",
   "mimetype": "text/x-python",
   "name": "python",
   "nbconvert_exporter": "python",
   "pygments_lexer": "ipython3",
   "version": "3.9.12"
  },
  "orig_nbformat": 4,
  "vscode": {
   "interpreter": {
    "hash": "41f7ba8645af086de5a2c668809fdb57629028366d5687fb2c6a0345f663f190"
   }
  }
 },
 "nbformat": 4,
 "nbformat_minor": 2
}
