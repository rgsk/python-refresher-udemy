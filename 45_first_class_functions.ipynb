{
 "cells": [
  {
   "cell_type": "code",
   "execution_count": 8,
   "metadata": {},
   "outputs": [
    {
     "name": "stdout",
     "output_type": "stream",
     "text": [
      "7\n",
      "5.0\n"
     ]
    }
   ],
   "source": [
    "def divide(dividend, divisor):\n",
    "    if divisor == 0:\n",
    "        raise ZeroDivisionError('Divisor cannot be 0.')\n",
    "    return dividend / divisor\n",
    "\n",
    "def sum_two(x, y):\n",
    "    return x + y\n",
    "\n",
    "def calculate(*values, operator):\n",
    "    return operator(*values)\n",
    "\n",
    "print(calculate(3, 4, operator=sum_two))\n",
    "print(calculate(10, 2, operator=divide))"
   ]
  },
  {
   "cell_type": "code",
   "execution_count": 9,
   "metadata": {},
   "outputs": [
    {
     "name": "stdout",
     "output_type": "stream",
     "text": [
      "Rolf Smith\n",
      "{'name': 'Rolf Smith', 'age': 24}\n"
     ]
    },
    {
     "data": {
      "text/plain": [
       "'\\nRuntimeError: Could not find an element with Bob Smith\\n'"
      ]
     },
     "execution_count": 9,
     "metadata": {},
     "output_type": "execute_result"
    }
   ],
   "source": [
    "from operator import itemgetter\n",
    "\n",
    "\n",
    "def search(sequence, expected, finder):\n",
    "    for elem in sequence:\n",
    "        if finder(elem) == expected:\n",
    "            return elem\n",
    "    raise RuntimeError(f'Could not find an element with {expected}')\n",
    "\n",
    "friends = [\n",
    "    {'name': 'Rolf Smith', 'age': 24},\n",
    "    {'name': 'Adam Wool', 'age': 30},\n",
    "    {'name': 'Anne Pun', 'age': 27},\n",
    "]\n",
    "print(itemgetter('name')(friends[0]))\n",
    "\n",
    "print(search(friends, 'Rolf Smith', itemgetter('name')))\n",
    "\n",
    "# print(search(friends, 'Bob Smith', itemgetter('name')))\n",
    "'''\n",
    "RuntimeError: Could not find an element with Bob Smith\n",
    "'''"
   ]
  }
 ],
 "metadata": {
  "kernelspec": {
   "display_name": "Python 3.9.12 ('base')",
   "language": "python",
   "name": "python3"
  },
  "language_info": {
   "codemirror_mode": {
    "name": "ipython",
    "version": 3
   },
   "file_extension": ".py",
   "mimetype": "text/x-python",
   "name": "python",
   "nbconvert_exporter": "python",
   "pygments_lexer": "ipython3",
   "version": "3.9.12"
  },
  "orig_nbformat": 4,
  "vscode": {
   "interpreter": {
    "hash": "41f7ba8645af086de5a2c668809fdb57629028366d5687fb2c6a0345f663f190"
   }
  }
 },
 "nbformat": 4,
 "nbformat_minor": 2
}
